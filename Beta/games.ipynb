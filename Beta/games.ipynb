{
 "cells": [
  {
   "cell_type": "code",
   "execution_count": 82,
   "id": "06f25003-1a4e-4fee-802c-d7104875f587",
   "metadata": {},
   "outputs": [
    {
     "name": "stdout",
     "output_type": "stream",
     "text": [
      "['Sox', 'Cubs']\n"
     ]
    }
   ],
   "source": [
    "\n",
    "import openpyxl\n",
    "import pandas as pd\n",
    "\n",
    "excel_data_input = (\"/media/SGBackupE2/Working/04_Research/02_Projects/Twitter2030/02_Data/Nu/games.xlsx\")\n",
    "\n",
    "#print(excel_data_input)\n",
    "\n",
    "data = pd.ExcelFile(excel_data_input)\n",
    "print(data.sheet_names)\n"
   ]
  },
  {
   "cell_type": "code",
   "execution_count": 83,
   "id": "a6ae14d9-998a-450d-90ed-efc443f71aac",
   "metadata": {},
   "outputs": [
    {
     "data": {
      "text/plain": [
       "<bound method DataFrame.info of    2019-09-22 00:00:00  0  22  9\n",
       "0           2019-09-21  0  21  9\n",
       "1           2019-09-20  0  20  9\n",
       "2           2019-09-19  0  19  9\n",
       "3           2019-09-18  0  18  9\n",
       "4           2019-09-17  0  17  9\n",
       "..                 ... ..  .. ..\n",
       "75          2019-04-13  0  13  4\n",
       "76          2019-04-12  1  12  4\n",
       "77          2019-04-11  1  11  4\n",
       "78          2019-04-10  0  10  4\n",
       "79          2019-04-08  1   8  4\n",
       "\n",
       "[80 rows x 4 columns]>"
      ]
     },
     "execution_count": 83,
     "metadata": {},
     "output_type": "execute_result"
    }
   ],
   "source": [
    "\n",
    "df = data.parse('Cubs')\n",
    "df.info\n"
   ]
  },
  {
   "cell_type": "code",
   "execution_count": 84,
   "id": "2904684a-9967-4b48-9a1a-9d81f580339e",
   "metadata": {},
   "outputs": [
    {
     "name": "stdout",
     "output_type": "stream",
     "text": [
      "81\n",
      "922 0\n",
      "921 0\n",
      "920 0\n",
      "919 0\n",
      "918 0\n",
      "917 0\n",
      "916 1\n",
      "915 1\n",
      "914 1\n",
      "913 1\n",
      "903 1\n",
      "902 1\n",
      "901 0\n",
      "831 0\n",
      "830 1\n",
      "825 0\n",
      "824 0\n",
      "823 0\n",
      "822 1\n",
      "821 1\n",
      "820 1\n",
      "807 1\n",
      "806 0\n",
      "805 1\n",
      "804 1\n",
      "803 1\n",
      "802 1\n",
      "721 0\n",
      "720 1\n",
      "719 1\n",
      "717 1\n",
      "716 1\n",
      "715 0\n",
      "714 1\n",
      "713 1\n",
      "712 1\n",
      "627 1\n",
      "626 0\n",
      "625 0\n",
      "624 1\n",
      "623 1\n",
      "622 0\n",
      "621 0\n",
      "620 1\n",
      "619 1\n",
      "618 0\n",
      "609 1\n",
      "608 1\n",
      "607 1\n",
      "606 0\n",
      "605 1\n",
      "604 1\n",
      "603 1\n",
      "526 0\n",
      "525 1\n",
      "524 0\n",
      "523 0\n",
      "522 1\n",
      "521 1\n",
      "520 0\n",
      "512 1\n",
      "511 1\n",
      "510 0\n",
      "509 1\n",
      "508 1\n",
      "507 1\n",
      "506 0\n",
      "505 1\n",
      "504 1\n",
      "503 1\n",
      "425 0\n",
      "424 1\n",
      "423 1\n",
      "421 1\n",
      "420 0\n",
      "419 1\n",
      "413 0\n",
      "412 1\n",
      "411 1\n",
      "410 0\n",
      "408 1\n"
     ]
    }
   ],
   "source": [
    "\n",
    "import pickle\n",
    "\n",
    "work_book = openpyxl.load_workbook(excel_data_input)\n",
    "\n",
    "work_sheet = work_book['Cubs']\n",
    "\n",
    "all_rows = list(work_sheet.rows)\n",
    "\n",
    "#print(len(all_rows))\n",
    "\n",
    "game_dictionary = {}\n",
    "\n",
    "for row in all_rows[:]:\n",
    "    #print(row)\n",
    "    date = row[0].value\n",
    "    win = row[1].value\n",
    "    day = row[2].value\n",
    "    month = row[3].value\n",
    "    \n",
    "    #print('\\t\\t\\t', win, '\\t', str(day), '\\t', '-', '\\t\\t', str(month))\n",
    "    \n",
    "    if len(str(day)) != 2:\n",
    "        dict_key = str(month)+'0'+str(day)\n",
    "    else:\n",
    "        dict_key = str(month)+str(day)\n",
    "    \n",
    "    dict_value = str(win)\n",
    "    \n",
    "    game_dictionary[dict_key] = dict_value\n",
    "\n",
    "for key in game_dictionary:\n",
    "    print(key, game_dictionary[key])\n",
    "\n",
    "    \n",
    "output_file = open('cubs.dat', 'wb')\n",
    "pickle.dump(game_dictionary, output_file)\n",
    "output_file.close()\n"
   ]
  },
  {
   "cell_type": "code",
   "execution_count": null,
   "id": "0473fe77-7bca-4218-9b22-9f950ec1d2f6",
   "metadata": {},
   "outputs": [],
   "source": [
    "\n"
   ]
  },
  {
   "cell_type": "code",
   "execution_count": null,
   "id": "a71c1d76-6cac-47b1-b7d3-f88df7b8a7ba",
   "metadata": {},
   "outputs": [],
   "source": []
  }
 ],
 "metadata": {
  "kernelspec": {
   "display_name": "Python 3 (ipykernel)",
   "language": "python",
   "name": "python3"
  },
  "language_info": {
   "codemirror_mode": {
    "name": "ipython",
    "version": 3
   },
   "file_extension": ".py",
   "mimetype": "text/x-python",
   "name": "python",
   "nbconvert_exporter": "python",
   "pygments_lexer": "ipython3",
   "version": "3.9.7"
  }
 },
 "nbformat": 4,
 "nbformat_minor": 5
}
