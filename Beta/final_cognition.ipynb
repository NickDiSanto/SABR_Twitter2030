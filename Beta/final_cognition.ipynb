{
 "cells": [
  {
   "cell_type": "code",
   "execution_count": 12,
   "id": "04c4c9a4-5745-480a-840a-15930cbfa138",
   "metadata": {},
   "outputs": [
    {
     "name": "stdout",
     "output_type": "stream",
     "text": [
      "El Fin\n"
     ]
    }
   ],
   "source": [
    "# !! FINAL POLARITY CODE !!\n",
    "\n",
    "# Google authentication key export\n",
    "!export GOOGLE_APPLICATION_CREDENTIALS=\"/srv/Twitter2030/Data/acts-cloud-5-tljh-8e85a08eab1d-sakey.json\"\n",
    "\n",
    "from tweet_parser.tweet import Tweet\n",
    "from tweet_parser.tweet_parser_errors import NotATweetError\n",
    "import fileinput\n",
    "import json\n",
    "import string\n",
    "import re\n",
    "import time\n",
    "import nltk\n",
    "from nltk.util import ngrams\n",
    "# nltk.download('universal_tagset')\n",
    "from nltk.sentiment import SentimentIntensityAnalyzer\n",
    "\n",
    "# Imports the Google Cloud client library\n",
    "from google.cloud import storage\n",
    "\n",
    "sia = SentimentIntensityAnalyzer()\n",
    "\n",
    "# Create bucket client and authenticate via service account access key\n",
    "storage_client = storage.Client.from_service_account_json('/srv/Twitter2030/Data/acts-cloud-5-tljh-8e85a08eab1d-sakey.json')\n",
    "\n",
    "# Set bucket name, team folder name, and delimiter\n",
    "BUCKET_NAME = \"allteamsmlb\" # Do not change\n",
    "team_name = \"NewTest\" # Change as per team name directory, e.g., <##Name>\n",
    "\n",
    "# Dictionaries: Key - Date    Value - Number of tweets of that sentiment\n",
    "yes_cognition_dict = {}\n",
    "no_cognition_dict = {}\n",
    "\n",
    "super_list = [['NOUN', 'VERB', 'ADV'], ['NOUN', 'VERB', 'ADP'],\n",
    "              ['NOUN', 'VERB', 'ADV', 'ADJ'], ['NOUN', 'VERB', 'NOUN', 'ADP'],\n",
    "              ['NOUN', 'VERB', 'ADJ'], ['NOUN', 'VERB', 'ADJ', 'NOUN']]\n",
    "\n",
    "print('El Fin')"
   ]
  },
  {
   "cell_type": "code",
   "execution_count": 16,
   "id": "cad97362-102a-4a92-ad1d-b8f3c948b3cc",
   "metadata": {},
   "outputs": [
    {
     "name": "stdout",
     "output_type": "stream",
     "text": [
      "El Fin\n",
      "Runtime: 4.73 seconds\n"
     ]
    }
   ],
   "source": [
    "def clean_tweets(tweet):\n",
    "\t# remove stock market tickers like $GE\n",
    "\ttweet = re.sub(r'\\$\\w*', '', tweet)\n",
    "\n",
    "\t# remove old style retweet text \"RT\"\n",
    "\ttweet = re.sub(r'^RT[\\s]+', '', tweet)\n",
    "\n",
    "\t# remove hyperlinks\n",
    "\ttweet = re.sub(r'https?:\\/\\/.*[\\r\\n]*', '', tweet)\n",
    "\t\n",
    "\t# remove hashtags\n",
    "\t# only removing the hash # sign from the word\n",
    "\ttweet = re.sub(r'#', '', tweet)\n",
    " \n",
    "\treturn tweet\n",
    "\n",
    "t0 = time.time()\n",
    "\n",
    "object_generator = storage_client.list_blobs(BUCKET_NAME, prefix=team_name, delimiter=None)\n",
    "\n",
    "for status_log_bucket_name in object_generator:\n",
    "    #status_log_gz = status_log_bucket_name.name.split('/')\n",
    "    #print(status_log_bucket_name)\n",
    "    #print(status_log_gz[1])\n",
    "\n",
    "# https://googleapis.dev/python/storage/latest/blobs.html#google.cloud.storage.blob.Blob.download_as_text\n",
    "# See section on open() function about 70% down the page\n",
    "    client2 = storage.Client()\n",
    "    BUCKET_NAME_TWO = client2.bucket(BUCKET_NAME)\n",
    "    blob = BUCKET_NAME_TWO.blob(status_log_bucket_name.name)\n",
    "    #blob = BUCKET_NAME.blob(status_log_gz)\n",
    "\n",
    "#blobcontent = blob.download_as_string()\n",
    "\n",
    "    with blob.open('rt') as f:\n",
    "        for line in f:\n",
    "            try:\n",
    "                tweet_dict = json.loads(line)\n",
    "\n",
    "                tweet = Tweet(tweet_dict)\n",
    "\n",
    "                text = clean_tweets(tweet.all_text)\n",
    "\n",
    "                # Extracts date and verifies its a day the Sox play\n",
    "                date = tweet.created_at_string[0:10]\n",
    "                \n",
    "                # if date in cubs_game_dates:\n",
    "                tokens = nltk.word_tokenize(text) # Create a list of tokens\n",
    "                tokens_tagged = nltk.pos_tag(tokens, tagset='universal')\n",
    "\n",
    "                pos_tokens = ''\n",
    "\n",
    "                # Loop the dict of tokens\n",
    "                for token in tokens_tagged:\n",
    "                    pos_tokens += token[1] + ' '\n",
    "\n",
    "                sentence = str(pos_tokens)#'Whoever is happy will make others happy too'\n",
    "                trigrams = ngrams(sentence.split(), 3)\n",
    "                quadgrams = ngrams(sentence.split(), 4)\n",
    "\n",
    "                trigram_list = []\n",
    "                for item in trigrams:\n",
    "                    trigram_list.append(item[0])\n",
    "                    trigram_list.append(item[1])\n",
    "                    trigram_list.append(item[2])\n",
    "\n",
    "                quadgram_list = []\n",
    "                for item in quadgrams:\n",
    "                    quadgram_list.append(item[0])\n",
    "                    quadgram_list.append(item[1])\n",
    "                    quadgram_list.append(item[2])\n",
    "                    quadgram_list.append(item[3])\n",
    "\n",
    "                if trigram_list in super_list or quadgram_list in super_list:\n",
    "                    if date in yes_cognition_dict.keys():\n",
    "                        yes_cognition_dict[date] += 1\n",
    "                    else:\n",
    "                        yes_cognition_dict[date] = 1\n",
    "                else:\n",
    "                    if date in no_cognition_dict.keys():\n",
    "                        no_cognition_dict[date] += 1\n",
    "                    else:\n",
    "                        no_cognition_dict[date] = 1\n",
    "\n",
    "            except (json.JSONDecodeError, NotATweetError):\n",
    "                pass\n",
    "            \n",
    "t1 = time.time()\n",
    "\n",
    "print('El Fin')\n",
    "print('Runtime:', str(round(t1 - t0, 2)), 'seconds')"
   ]
  },
  {
   "cell_type": "code",
   "execution_count": 9,
   "id": "060dd4e7-6ec6-46c3-9672-0ccecdd1cd4a",
   "metadata": {},
   "outputs": [
    {
     "name": "stdout",
     "output_type": "stream",
     "text": [
      "El Fin\n"
     ]
    }
   ],
   "source": [
    "# Writes to text files\n",
    "with open(\"Beta/Output/Cognition/TEST_yes.txt\", 'w') as new_file: \n",
    "    for key, value in yes_cognition_dict.items(): \n",
    "        new_file.write('%s : %d\\n' % (key, value))\n",
    "\n",
    "with open(\"Beta/Output/Cognition/TEST_no.txt\", 'w') as new_file: \n",
    "    for key, value in no_cognition_dict.items(): \n",
    "        new_file.write('%s : %d\\n' % (key, value))\n",
    "        \n",
    "print('El Fin')"
   ]
  }
 ],
 "metadata": {
  "kernelspec": {
   "display_name": "myenv3",
   "language": "python",
   "name": "myenv3"
  },
  "language_info": {
   "codemirror_mode": {
    "name": "ipython",
    "version": 3
   },
   "file_extension": ".py",
   "mimetype": "text/x-python",
   "name": "python",
   "nbconvert_exporter": "python",
   "pygments_lexer": "ipython3",
   "version": "3.8.13"
  }
 },
 "nbformat": 4,
 "nbformat_minor": 5
}
