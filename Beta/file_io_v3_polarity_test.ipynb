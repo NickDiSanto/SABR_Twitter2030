{
 "cells": [
  {
   "cell_type": "code",
   "execution_count": 37,
   "id": "09eaab45-dafd-476e-93e4-a27a5628ac61",
   "metadata": {},
   "outputs": [],
   "source": [
    "\n",
    "from nltk.sentiment import SentimentIntensityAnalyzer\n",
    "\n"
   ]
  },
  {
   "cell_type": "code",
   "execution_count": 40,
   "id": "a4ad21db-61f2-48e8-9d88-83877546ef5f",
   "metadata": {},
   "outputs": [
    {
     "name": "stdout",
     "output_type": "stream",
     "text": [
      "{'neg': 0.0, 'neu': 0.677, 'pos': 0.323, 'compound': 0.8221}\n",
      "\n",
      "0.0\n",
      "> 0.0\n",
      "> 0.0\n",
      "> 0.0\n"
     ]
    }
   ],
   "source": [
    "\n",
    "sia = SentimentIntensityAnalyzer()\n",
    "\n",
    "\n",
    "# If Date is valid extract text\n",
    "text = \"@CoachDJ99 @Hononegah @RB_Mrs @dairyhaus Hey it’s my birthday too! I was pretty excited that Hono decided to throw me a big ol’ party 😋 \"\n",
    "\n",
    "scores = sia.polarity_scores(text) # Create a dict of scores\n",
    "#print(type(scores))\n",
    "print(scores)\n",
    "print()\n",
    "\n",
    "# Loop the dict of scores\n",
    "for key in scores:\n",
    "    #print(key, scores[key])\n",
    "    if key == 'neg':\n",
    "        if scores[key] == 0.0:\n",
    "            print(scores[key])\n",
    "        else:\n",
    "            print('> 0.0')\n",
    "    if key == 'neu':\n",
    "        if scores[key] == 0.0:\n",
    "            print(scores[key])\n",
    "        else:\n",
    "            print('> 0.0')\n",
    "    if key == 'pos':\n",
    "        if scores[key] == 0.0:\n",
    "            print(scores[key])\n",
    "        else:\n",
    "            print('> 0.0')\n",
    "    if key == 'compound':\n",
    "        if scores[key] == 0.0:\n",
    "            print(scores[key])\n",
    "        else:\n",
    "            print('> 0.0')\n"
   ]
  },
  {
   "cell_type": "code",
   "execution_count": 41,
   "id": "fd9bf449-2933-44d8-bc34-121ad3e6d41b",
   "metadata": {},
   "outputs": [
    {
     "name": "stdout",
     "output_type": "stream",
     "text": [
      "{'neg': 0.0, 'neu': 0.677, 'pos': 0.323, 'compound': 0.8221}\n",
      "\n",
      "0.0\n",
      "> 0.0\n",
      "> 0.0\n",
      "> 0.0\n",
      "> 0.0\n",
      "> 0.0\n",
      "> 0.0\n",
      "> 0.0\n",
      "> 0.0\n",
      "> 0.0\n",
      "> 0.0\n",
      "> 0.0\n",
      "> 0.0\n",
      "> 0.0\n",
      "> 0.0\n",
      "> 0.0\n"
     ]
    }
   ],
   "source": [
    "\n",
    "sia = SentimentIntensityAnalyzer()\n",
    "\n",
    "\n",
    "# If Date is valid extract text\n",
    "text = \"@CoachDJ99 @Hononegah @RB_Mrs @dairyhaus Hey it’s my birthday too! I was pretty excited that Hono decided to throw me a big ol’ party 😋 \"\n",
    "\n",
    "scores = sia.polarity_scores(text) # Create a dict of scores\n",
    "#print(type(scores))\n",
    "print(scores)\n",
    "print()\n",
    "\n",
    "# Loop the dict of scores\n",
    "for key in scores:\n",
    "    #print(key, scores[key])\n",
    "    if key == 'neg' and scores[key] == 0.0:\n",
    "        print(scores[key])\n",
    "    else:\n",
    "        print('> 0.0')\n",
    "    if key == 'neu' and scores[key] == 0.0:\n",
    "        print(scores[key])\n",
    "    else:\n",
    "        print('> 0.0')\n",
    "    if key == 'pos' and scores[key] == 0.0:\n",
    "        print(scores[key])\n",
    "    else:\n",
    "        print('> 0.0')\n",
    "    if key == 'compound' and scores[key] == 0.0:\n",
    "        print(scores[key])\n",
    "    else:\n",
    "        print('> 0.0')\n",
    "            "
   ]
  },
  {
   "cell_type": "code",
   "execution_count": null,
   "id": "8499ea1a-ba18-4747-a3af-467a8ca852bb",
   "metadata": {},
   "outputs": [],
   "source": []
  }
 ],
 "metadata": {
  "kernelspec": {
   "display_name": "Python 3 (ipykernel)",
   "language": "python",
   "name": "python3"
  },
  "language_info": {
   "codemirror_mode": {
    "name": "ipython",
    "version": 3
   },
   "file_extension": ".py",
   "mimetype": "text/x-python",
   "name": "python",
   "nbconvert_exporter": "python",
   "pygments_lexer": "ipython3",
   "version": "3.9.7"
  }
 },
 "nbformat": 4,
 "nbformat_minor": 5
}
