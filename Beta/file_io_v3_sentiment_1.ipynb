{
 "cells": [
  {
   "cell_type": "code",
   "execution_count": null,
   "id": "1f0f879e",
   "metadata": {
    "colab": {
     "base_uri": "https://localhost:8080/"
    },
    "id": "B0XrBxAZH8Jh",
    "outputId": "00c8a102-8f53-4118-a0cd-14e709bd1b2b"
   },
   "outputs": [],
   "source": [
    "#from google.colab import drive\n",
    "\n",
    "#drive.mount('/content/gdrive')"
   ]
  },
  {
   "cell_type": "code",
   "execution_count": 6,
   "id": "241d9773",
   "metadata": {
    "colab": {
     "base_uri": "https://localhost:8080/"
    },
    "id": "52a8ca18-a34b-4cd1-ae8b-7c8c173bc937",
    "outputId": "87c7594c-a5a5-45ad-b4f4-565d8dc07c1f",
    "tags": []
   },
   "outputs": [
    {
     "name": "stdout",
     "output_type": "stream",
     "text": [
      "El Fin 4405\n"
     ]
    }
   ],
   "source": [
    "\n",
    "# Folder Loop\n",
    "import os\n",
    "\n",
    "# Folder of .gz tweet files\n",
    "path_of_the_directory = \"/media/SGBackupE2/Working/04_Research/02_Projects/Twitter2030/02_Data/Kappa\"\n",
    "\n",
    "file_extension = '.gz' # File extension for unzip\n",
    "file_list = [] # Create a list of file names.\n",
    "count = 0 # Counter\n",
    "\n",
    "# Build list of files to uncompress\n",
    "for filename in os.listdir(path_of_the_directory):\n",
    "    f = os.path.join(path_of_the_directory, filename)\n",
    "    if os.path.isfile(f):\n",
    "        if f.endswith(file_extension):\n",
    "            #print(f)\n",
    "            file_list.append(f)\n",
    "            count += 1\n",
    "\n",
    "print('El Fin', count)\n"
   ]
  },
  {
   "cell_type": "code",
   "execution_count": 7,
   "id": "634d395d",
   "metadata": {
    "colab": {
     "base_uri": "https://localhost:8080/"
    },
    "id": "f4e3fddb-0659-45d5-bcc1-7faf6da5a32a",
    "outputId": "b102f27f-57b8-40e1-dba0-3cca9dec67f1",
    "tags": []
   },
   "outputs": [
    {
     "name": "stdout",
     "output_type": "stream",
     "text": [
      "4405\n"
     ]
    }
   ],
   "source": [
    "\n",
    "# Get Number of Files in List\n",
    "\n",
    "print(len(file_list))\n",
    "#or x in file_list:\n",
    "#print(x)\n"
   ]
  },
  {
   "cell_type": "code",
   "execution_count": null,
   "id": "3b593f90",
   "metadata": {
    "colab": {
     "base_uri": "https://localhost:8080/"
    },
    "id": "4c2d959c-222d-4665-93f1-754274369a91",
    "outputId": "d34a13cf-47b9-4b6d-a289-325bed572c4a",
    "tags": []
   },
   "outputs": [],
   "source": [
    "\n",
    "# Gzip Uncompress\n",
    "import gzip\n",
    "\n",
    "# Function to uncompress a .gz file and then save it\n",
    "def gunzip(source_filepath, dest_filepath, block_size=65536):\n",
    "    with gzip.open(source_filepath, 'rb') as s_file, \\\n",
    "            open(dest_filepath, 'wb') as d_file:\n",
    "        while True:\n",
    "            block = s_file.read(block_size)\n",
    "            if not block:\n",
    "                break\n",
    "            else:\n",
    "                d_file.write(block)\n",
    "\n",
    "# gunzip function call to unzip each .gz file and save it\n",
    "for file in file_list:\n",
    "    source_file = file\n",
    "    dest_file = file.rstrip('.gz')\n",
    "    dest_file = dest_file + '.json'\n",
    "    #print(source_file, dest_file)\n",
    "    gunzip(source_file, dest_file)\n",
    "\n",
    "print('El Fin')\n"
   ]
  },
  {
   "cell_type": "code",
   "execution_count": null,
   "id": "1ea6902d",
   "metadata": {
    "colab": {
     "base_uri": "https://localhost:8080/"
    },
    "id": "195d6c39-57df-41e5-954e-eff6d17dcda9",
    "outputId": "f3b1cb6f-7271-4740-bddf-3edf0561a9a7"
   },
   "outputs": [],
   "source": [
    "\n",
    "# Folder Loop for Uncompressed JSON files\n",
    "import os\n",
    "\n",
    "# Folder of .gz tweet files\n",
    "path_of_the_directory_json = \"/media/SGBackupE2/Working/04_Research/02_Projects/Twitter2030/02_Data/Kappa\"\n",
    "\n",
    "file_extension_json = '.json' # File extension for unzip\n",
    "file_list_json = [] # Create a list of file names.\n",
    "count_json = 0 # Counter\n",
    "\n",
    "# Build list of json files to read\n",
    "for filename_json in os.listdir(path_of_the_directory_json):\n",
    "    json_file = os.path.join(path_of_the_directory_json, filename_json)\n",
    "\n",
    "    if os.path.isfile(json_file):\n",
    "        if json_file.endswith(file_extension_json):\n",
    "            #print(json_file)\n",
    "            file_list_json.append(json_file)\n",
    "            count_json += 1\n",
    "\n",
    "print('El Fin', count_json)\n",
    "\n",
    "#for json_file_read in file_list_json:\n",
    "#    print(json_file_read)\n"
   ]
  },
  {
   "cell_type": "code",
   "execution_count": null,
   "id": "dcf0bd53",
   "metadata": {
    "colab": {
     "base_uri": "https://localhost:8080/"
    },
    "id": "41f74675-1cfb-4eea-93af-9020edd1d105",
    "outputId": "3ba1d3f7-f053-4893-e157-4f6530d9e45e",
    "tags": []
   },
   "outputs": [],
   "source": [
    "\n",
    "dest_filepath = file_list_json[0]\n",
    "\n",
    "input_file = open(dest_filepath, 'r')\n",
    "\n",
    "tweet = input_file.readline()\n",
    "count = 0\n",
    "while(tweet != ''):\n",
    "    print(tweet)\n",
    "    tweet = input_file.readline()\n",
    "    count += 1\n",
    "\n",
    "input_file.close()\n",
    "print(\"total count is:\", count)\n"
   ]
  },
  {
   "cell_type": "code",
   "execution_count": null,
   "id": "6cbfde5b",
   "metadata": {
    "id": "17b86372-ba64-47c5-a5d3-53683bb8107c",
    "tags": []
   },
   "outputs": [],
   "source": [
    "# https://pypi.org/project/tweet-parser/\n",
    "from tweet_parser.tweet import Tweet\n",
    "from tweet_parser.tweet_parser_errors import NotATweetError\n",
    "import fileinput\n",
    "import json\n",
    "\n",
    "for line in fileinput.FileInput(file_list_json[1]):\n",
    "    try:\n",
    "        tweet_dict = json.loads(line)\n",
    "        # print(tweet_dict)\n",
    "        tweet = Tweet(tweet_dict)\n",
    "        # for ky_val in tweet_dict.keys():\n",
    "        #     print(len(ky_val))\n",
    "        # print()\n",
    "    except (json.JSONDecodeError, NotATweetError):\n",
    "        pass\n",
    "    print(tweet.created_at_string, \"\\n\", tweet.all_text, \"\\n\")\n"
   ]
  },
  {
   "cell_type": "markdown",
   "id": "06d113f3-4bb6-48e2-b60d-73549a1017a8",
   "metadata": {},
   "source": []
  }
 ],
 "metadata": {
  "colab": {
   "collapsed_sections": [],
   "name": "file_io_v2.ipynb",
   "provenance": []
  },
  "kernelspec": {
   "display_name": "Python 3 (ipykernel)",
   "language": "python",
   "name": "python3"
  },
  "language_info": {
   "codemirror_mode": {
    "name": "ipython",
    "version": 3
   },
   "file_extension": ".py",
   "mimetype": "text/x-python",
   "name": "python",
   "nbconvert_exporter": "python",
   "pygments_lexer": "ipython3",
   "version": "3.9.7"
  }
 },
 "nbformat": 4,
 "nbformat_minor": 5
}
