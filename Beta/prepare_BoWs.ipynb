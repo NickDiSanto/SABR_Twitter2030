{
  "cells": [
    {
      "cell_type": "code",
      "execution_count": null,
      "metadata": {
        "colab": {
          "base_uri": "https://localhost:8080/"
        },
        "id": "7r22WurtO9XO",
        "outputId": "585092ac-3c27-4f61-9607-84cbd9fcf336"
      },
      "outputs": [
        {
          "output_type": "stream",
          "name": "stdout",
          "text": [
            "Mounted at /content/gdrive\n"
          ]
        },
        {
          "output_type": "stream",
          "name": "stderr",
          "text": [
            "[nltk_data] Downloading package stopwords to /root/nltk_data...\n",
            "[nltk_data]   Unzipping corpora/stopwords.zip.\n",
            "[nltk_data] Downloading package wordnet to /root/nltk_data...\n",
            "[nltk_data] Downloading package omw-1.4 to /root/nltk_data...\n"
          ]
        },
        {
          "output_type": "stream",
          "name": "stdout",
          "text": [
            "Looking in indexes: https://pypi.org/simple, https://us-python.pkg.dev/colab-wheels/public/simple/\n",
            "Collecting langdetect\n",
            "  Downloading langdetect-1.0.9.tar.gz (981 kB)\n",
            "\u001b[2K     \u001b[90m━━━━━━━━━━━━━━━━━━━━━━━━━━━━━━━━━━━━━━\u001b[0m \u001b[32m981.5/981.5 KB\u001b[0m \u001b[31m13.8 MB/s\u001b[0m eta \u001b[36m0:00:00\u001b[0m\n",
            "\u001b[?25h  Preparing metadata (setup.py) ... \u001b[?25l\u001b[?25hdone\n",
            "Requirement already satisfied: six in /usr/local/lib/python3.9/dist-packages (from langdetect) (1.16.0)\n",
            "Building wheels for collected packages: langdetect\n",
            "  Building wheel for langdetect (setup.py) ... \u001b[?25l\u001b[?25hdone\n",
            "  Created wheel for langdetect: filename=langdetect-1.0.9-py3-none-any.whl size=993243 sha256=98241fe269f6dfb0e35f72d08ad9c12d613e90bcf576fed2c569040f6d0d6295\n",
            "  Stored in directory: /root/.cache/pip/wheels/d1/c1/d9/7e068de779d863bc8f8fc9467d85e25cfe47fa5051fff1a1bb\n",
            "Successfully built langdetect\n",
            "Installing collected packages: langdetect\n",
            "Successfully installed langdetect-1.0.9\n"
          ]
        }
      ],
      "source": [
        "import numpy as np\n",
        "import time\n",
        "import matplotlib.pyplot as plt\n",
        "import string\n",
        "\n",
        "from google.colab import drive\n",
        "\n",
        "drive.mount('/content/gdrive')\n",
        "\n",
        "import nltk\n",
        "nltk.download('stopwords')\n",
        "nltk.download('wordnet')\n",
        "nltk.download('omw-1.4')\n",
        "from nltk.corpus import stopwords\n",
        "from nltk.tokenize import word_tokenize\n",
        "from nltk.stem import WordNetLemmatizer\n",
        "\n",
        "stop_words = stopwords.words('english')\n",
        "lemmatizer = WordNetLemmatizer()\n",
        "\n",
        "!pip install langdetect\n",
        "from langdetect import detect"
      ]
    },
    {
      "cell_type": "code",
      "execution_count": null,
      "metadata": {
        "id": "Xu-JIQqCO5z3"
      },
      "outputs": [],
      "source": [
        "def write_dict_to_file(file_name, dictionary):\n",
        "    with open(file_name, 'w') as new_file:\n",
        "        for key, value in dictionary.items():\n",
        "            new_file.write('%s : %d\\n' % (key, value))"
      ]
    },
    {
      "cell_type": "code",
      "execution_count": null,
      "metadata": {
        "id": "vMue25sYfwNh"
      },
      "outputs": [],
      "source": [
        "def make_dics(city):\n",
        "\n",
        "    raw_IP_txt=open(f'{city}_IP_bow.txt', 'r')\n",
        "    raw_NP_txt=open(f'{city}_NP_bow.txt', 'r')\n",
        "\n",
        "    def iterate_raw(file):\n",
        "        new_dic = {}\n",
        "        for line in file:\n",
        "            vals = line.replace(' ', '').split(':')\n",
        "            key = vals[0].translate(str.maketrans('','',string.punctuation.replace(\"'\", \"'’\"))).lower()\n",
        "            if key not in new_dic:\n",
        "                new_dic[key] = int(vals[1])\n",
        "            else:\n",
        "                new_dic[key] += int(vals[1])\n",
        "        return dict(sorted(new_dic.items(), key=lambda item: item[1]))\n",
        "\n",
        "    IP_bow = iterate_raw(raw_IP_txt)\n",
        "    NP_bow = iterate_raw(raw_NP_txt)\n",
        "\n",
        "    raw_IP_txt.close()\n",
        "    raw_NP_txt.close()\n",
        "\n",
        "    return IP_bow, NP_bow"
      ]
    },
    {
      "cell_type": "code",
      "source": [
        "def make_all_teams_dic():\n",
        "\n",
        "    raw_txt=open(f'ALL_TEAMS_bow.txt', 'r')\n",
        "\n",
        "    def iterate_raw(file):\n",
        "        new_dic = {}\n",
        "        for line in file:\n",
        "            vals = line.replace(' ', '').split(':')\n",
        "            key = vals[0].translate(str.maketrans('','',string.punctuation.replace(\"'\", \"'’\"))).lower()\n",
        "            if key not in new_dic:\n",
        "                new_dic[key] = int(vals[1])\n",
        "            else:\n",
        "                new_dic[key] += int(vals[1])\n",
        "        return dict(sorted(new_dic.items(), key=lambda item: item[1]))\n",
        "\n",
        "    bow = iterate_raw(raw_txt)\n",
        "\n",
        "    raw_txt.close()\n",
        "\n",
        "    return bow"
      ],
      "metadata": {
        "id": "1p_wCUxMPUFE"
      },
      "execution_count": null,
      "outputs": []
    },
    {
      "cell_type": "code",
      "execution_count": null,
      "metadata": {
        "id": "5R7PdvceOzOU"
      },
      "outputs": [],
      "source": []
    },
    {
      "cell_type": "code",
      "execution_count": null,
      "metadata": {
        "id": "X6seC6ZmOzSb"
      },
      "outputs": [],
      "source": []
    },
    {
      "cell_type": "code",
      "execution_count": null,
      "metadata": {
        "id": "atTsJXLNOzVc"
      },
      "outputs": [],
      "source": []
    },
    {
      "cell_type": "markdown",
      "metadata": {
        "id": "_ipjqNpleT3b"
      },
      "source": [
        "# Create weighted BoW"
      ]
    },
    {
      "cell_type": "code",
      "execution_count": null,
      "metadata": {
        "id": "4VRGBbMoE6in"
      },
      "outputs": [],
      "source": [
        "IP_bow_lemma_no_stopwords, NP_bow_lemma_no_stopwords = make_lemma_no_stopwords_dics('AZ')"
      ]
    },
    {
      "cell_type": "code",
      "execution_count": null,
      "metadata": {
        "id": "zKbnEA1yDS7o"
      },
      "outputs": [],
      "source": [
        "weighted_bow = {}\n",
        "\n",
        "for element in NP_bow_lemma_no_stopwords:\n",
        "    weighted_diff = int(-NP_bow_lemma_no_stopwords[element] / np_to_ip_ratio)\n",
        "    if element in IP_bow_lemma_no_stopwords:\n",
        "        weighted_diff = int(IP_bow_lemma_no_stopwords[element] - NP_bow_lemma_no_stopwords[element] / np_to_ip_ratio)\n",
        "\n",
        "    weighted_bow[element] = weighted_diff\n",
        "\n",
        "for element in IP_bow_lemma_no_stopwords:\n",
        "    if element not in weighted_bow:\n",
        "        weighted_bow[element] = IP_bow_lemma_no_stopwords[element]\n",
        "\n",
        "write_dict_to_file('weighted_bow.txt', weighted_bow)"
      ]
    },
    {
      "cell_type": "code",
      "execution_count": null,
      "metadata": {
        "id": "4cQytEQLwR-T"
      },
      "outputs": [],
      "source": []
    },
    {
      "cell_type": "code",
      "execution_count": null,
      "metadata": {
        "id": "8EVQs2w5_mqX"
      },
      "outputs": [],
      "source": []
    },
    {
      "cell_type": "code",
      "execution_count": null,
      "metadata": {
        "id": "-0vx26GU_mur"
      },
      "outputs": [],
      "source": []
    },
    {
      "cell_type": "markdown",
      "metadata": {
        "id": "A-wLgJ65e6kp"
      },
      "source": [
        "# Get weighted BoW"
      ]
    },
    {
      "cell_type": "code",
      "execution_count": null,
      "metadata": {
        "id": "aLwoEHITuyun"
      },
      "outputs": [],
      "source": [
        "IP_bow_lemma_no_stopwords, NP_bow_lemma_no_stopwords = make_lemma_no_stopwords_dics('AZ')"
      ]
    },
    {
      "cell_type": "code",
      "execution_count": null,
      "metadata": {
        "id": "sjc1VeFjMA4c"
      },
      "outputs": [],
      "source": [
        "weighted_bow = make_weighted_dic('AZ')"
      ]
    },
    {
      "cell_type": "code",
      "execution_count": null,
      "metadata": {
        "colab": {
          "base_uri": "https://localhost:8080/",
          "height": 282
        },
        "id": "cJvtQxJDfVv2",
        "outputId": "1c11fd4f-31ee-4999-b857-4a2cdab54f5f"
      },
      "outputs": [
        {
          "data": {
            "image/png": "[encoded data removed]",
            "text/plain": [
              "<Figure size 432x288 with 1 Axes>"
            ]
          },
          "metadata": {},
          "output_type": "display_data"
        }
      ],
      "source": [
        "plt.scatter(range(len(weighted_bow)), weighted_bow.values())\n",
        "plt.show()"
      ]
    },
    {
      "cell_type": "code",
      "execution_count": null,
      "metadata": {
        "id": "nlGx3HVPfb_8"
      },
      "outputs": [],
      "source": [
        "for i in range(1, 30):\n",
        "    element = list(weighted_bow.keys())[-i]\n",
        "    if element not in IP_bow_lemma_no_stopwords:\n",
        "        IP_bow_lemma_no_stopwords[element] = 0\n",
        "    if element not in NP_bow_lemma_no_stopwords:\n",
        "        NP_bow_lemma_no_stopwords[element] = 0\n",
        "    print(element)\n",
        "    print('Weighted value  - ', weighted_bow[element])\n",
        "    print('IP freq  - ', IP_bow_lemma_no_stopwords[element])\n",
        "    print('NP freq  - ', int(NP_bow_lemma_no_stopwords[element] / np_to_ip_ratio))\n",
        "    print()"
      ]
    },
    {
      "cell_type": "code",
      "execution_count": null,
      "metadata": {
        "id": "wbEvSAoE5Zb6"
      },
      "outputs": [],
      "source": [
        "for i in range(30):\n",
        "    element = list(weighted_bow.keys())[i]\n",
        "    if element not in IP_bow_lemma_no_stopwords:\n",
        "        IP_bow_lemma_no_stopwords[element] = 0\n",
        "    if element not in NP_bow_lemma_no_stopwords:\n",
        "        NP_bow_lemma_no_stopwords[element] = 0\n",
        "    print(element)\n",
        "    print('Weighted value  - ', weighted_bow[element])\n",
        "    print('IP freq  - ', IP_bow_lemma_no_stopwords[element])\n",
        "    print('NP freq  - ', int(NP_bow[element] / np_to_ip_ratio))\n",
        "    print()"
      ]
    },
    {
      "cell_type": "code",
      "execution_count": null,
      "metadata": {
        "colab": {
          "base_uri": "https://localhost:8080/"
        },
        "id": "EBA66OUWzQ3M",
        "outputId": "8d03becc-0300-46ae-cd6e-3825967c1bfd"
      },
      "outputs": [
        {
          "name": "stdout",
          "output_type": "stream",
          "text": [
            "7454605\n",
            "2758\n"
          ]
        }
      ],
      "source": [
        "pruned_weighted_bow = {}\n",
        "\n",
        "for element in weighted_bow:\n",
        "    if abs(weighted_bow[element]) > 200:\n",
        "        pruned_weighted_bow[element] = weighted_bow[element]\n",
        "\n",
        "print(len(weighted_bow))\n",
        "print(len(pruned_weighted_bow))"
      ]
    },
    {
      "cell_type": "code",
      "execution_count": null,
      "metadata": {
        "id": "yD36RWXATHPs"
      },
      "outputs": [],
      "source": []
    },
    {
      "cell_type": "code",
      "execution_count": null,
      "metadata": {
        "id": "WQzaYWUJtGFV"
      },
      "outputs": [],
      "source": []
    },
    {
      "cell_type": "code",
      "execution_count": null,
      "metadata": {
        "id": "3Hc1FlU8THSP"
      },
      "outputs": [],
      "source": []
    },
    {
      "cell_type": "code",
      "execution_count": null,
      "metadata": {
        "id": "TuV9dri5THU7"
      },
      "outputs": [],
      "source": []
    },
    {
      "cell_type": "markdown",
      "metadata": {
        "id": "HvT4wNXifh-t"
      },
      "source": [
        "# Get pruned weighted BoW (over 200 occurrences)"
      ]
    },
    {
      "cell_type": "code",
      "execution_count": null,
      "metadata": {
        "id": "tuFHGHUDhiEa"
      },
      "outputs": [],
      "source": [
        "IP_bow_lemma_no_stopwords, NP_bow_lemma_no_stopwords = make_lemma_no_stopwords_dics('AZ')"
      ]
    },
    {
      "cell_type": "code",
      "execution_count": null,
      "metadata": {
        "id": "Wci5FDoGfJ-4"
      },
      "outputs": [],
      "source": [
        "pruned_weighted_bow = make_pruned_weighted_dic('AZ')"
      ]
    },
    {
      "cell_type": "code",
      "execution_count": null,
      "metadata": {
        "colab": {
          "base_uri": "https://localhost:8080/",
          "height": 265
        },
        "id": "qaW_9bngzcXt",
        "outputId": "b99f7711-a2b5-48b1-b5c8-81f3444270ac"
      },
      "outputs": [
        {
          "data": {
            "image/png": "[encoded data removed]",
            "text/plain": [
              "<Figure size 432x288 with 1 Axes>"
            ]
          },
          "metadata": {},
          "output_type": "display_data"
        }
      ],
      "source": [
        "plt.scatter(range(len(pruned_weighted_bow)), pruned_weighted_bow.values())\n",
        "plt.show()"
      ]
    },
    {
      "cell_type": "code",
      "execution_count": null,
      "metadata": {
        "id": "-SlGhC4Kz--d"
      },
      "outputs": [],
      "source": []
    },
    {
      "cell_type": "code",
      "execution_count": null,
      "metadata": {
        "id": "HXX6ONq-5Q_E"
      },
      "outputs": [],
      "source": []
    },
    {
      "cell_type": "code",
      "execution_count": null,
      "metadata": {
        "id": "fvhGwqw35RFv"
      },
      "outputs": [],
      "source": []
    },
    {
      "cell_type": "markdown",
      "metadata": {
        "id": "4wm7829ElE8q"
      },
      "source": [
        "# Prepruning"
      ]
    },
    {
      "cell_type": "code",
      "execution_count": null,
      "metadata": {
        "colab": {
          "background_save": true
        },
        "id": "ULuSqn0AlE8q"
      },
      "outputs": [],
      "source": [
        "old_IP_bow, old_NP_bow = make__dics('AZ')"
      ]
    },
    {
      "cell_type": "code",
      "execution_count": null,
      "metadata": {
        "colab": {
          "background_save": true
        },
        "id": "C9d_40OOlE8r",
        "outputId": "4d28e4ce-4d78-4584-e3dd-531367cfdfcf"
      },
      "outputs": [
        {
          "name": "stdout",
          "output_type": "stream",
          "text": [
            "7.659\n"
          ]
        }
      ],
      "source": [
        "total_np = 0\n",
        "total_ip = 0\n",
        "\n",
        "for element in old_IP_bow:\n",
        "    if element in stop_words:\n",
        "        if element in old_NP_bow:\n",
        "            total_np += old_NP_bow[element]\n",
        "            total_ip += old_IP_bow[element]\n",
        "\n",
        "np_to_ip_ratio = total_np / total_ip\n",
        "print(round(np_to_ip_ratio, 3))"
      ]
    },
    {
      "cell_type": "code",
      "execution_count": null,
      "metadata": {
        "colab": {
          "background_save": true
        },
        "id": "LSmR6-PClE8r"
      },
      "outputs": [],
      "source": []
    },
    {
      "cell_type": "code",
      "execution_count": null,
      "metadata": {
        "colab": {
          "background_save": true
        },
        "id": "61pEk_-qlE8s"
      },
      "outputs": [],
      "source": []
    },
    {
      "cell_type": "code",
      "execution_count": null,
      "metadata": {
        "colab": {
          "background_save": true
        },
        "id": "HiXHhN1YlE8s"
      },
      "outputs": [],
      "source": []
    },
    {
      "cell_type": "code",
      "execution_count": null,
      "metadata": {
        "colab": {
          "background_save": true
        },
        "id": "LzGi3RzvlE8s",
        "outputId": "bd2a3278-aa4c-422a-a63b-c71d91f58ecf"
      },
      "outputs": [
        {
          "name": "stdout",
          "output_type": "stream",
          "text": [
            "6965066\n",
            "175750\n",
            "\n",
            "\n",
            "1356612\n",
            "151845\n"
          ]
        }
      ],
      "source": [
        "NP_bow_prepruned = {}\n",
        "IP_bow_prepruned = {}\n",
        "\n",
        "for element in old_NP_bow:\n",
        "    if old_NP_bow[element] > 5 * np_to_ip_ratio:\n",
        "        NP_bow_prepruned[element] = old_NP_bow[element]\n",
        "\n",
        "for element in old_IP_bow:\n",
        "    if old_IP_bow[element] > 5:\n",
        "        IP_bow_prepruned[element] = old_IP_bow[element]\n",
        "\n",
        "\n",
        "print(len(old_NP_bow))\n",
        "print(len(NP_bow_prepruned))\n",
        "print('\\n')\n",
        "print(len(old_IP_bow))\n",
        "print(len(IP_bow_prepruned))"
      ]
    },
    {
      "cell_type": "code",
      "execution_count": null,
      "metadata": {
        "colab": {
          "background_save": true
        },
        "id": "kaAAaNQMlE8t"
      },
      "outputs": [],
      "source": [
        "write_dict_to_file('AZ_IP_bow_prepruned.txt', IP_bow_prepruned)"
      ]
    },
    {
      "cell_type": "code",
      "execution_count": null,
      "metadata": {
        "colab": {
          "background_save": true
        },
        "id": "boOlYXtWlE8t"
      },
      "outputs": [],
      "source": [
        "write_dict_to_file('AZ_NP_bow_prepruned.txt', NP_bow_prepruned)"
      ]
    },
    {
      "cell_type": "code",
      "execution_count": null,
      "metadata": {
        "colab": {
          "background_save": true
        },
        "id": "gnhXNaYSlE8t"
      },
      "outputs": [],
      "source": []
    },
    {
      "cell_type": "code",
      "execution_count": null,
      "metadata": {
        "colab": {
          "background_save": true
        },
        "id": "7klf3ZDplE8t"
      },
      "outputs": [],
      "source": []
    },
    {
      "cell_type": "code",
      "execution_count": null,
      "metadata": {
        "colab": {
          "background_save": true
        },
        "id": "e2K8p3XtlE8u"
      },
      "outputs": [],
      "source": []
    },
    {
      "cell_type": "code",
      "execution_count": null,
      "metadata": {
        "colab": {
          "background_save": true
        },
        "id": "EONypUxglE8u"
      },
      "outputs": [],
      "source": [
        "IP_bow_prepruned, NP_bow_prepruned = make_prepruned_dics('AZ')"
      ]
    },
    {
      "cell_type": "code",
      "execution_count": null,
      "metadata": {
        "colab": {
          "background_save": true
        },
        "id": "8r2smDEylE8u"
      },
      "outputs": [],
      "source": [
        "experimental_weighted_bow = {}\n",
        "\n",
        "for element in NP_bow_prepruned:\n",
        "    new_NP = int(-NP_bow_prepruned[element] / np_to_ip_ratio)\n",
        "    if new_NP == 0:\n",
        "        new_NP = -1\n",
        "    weighted_diff = new_NP\n",
        "\n",
        "    if element in IP_bow_prepruned:\n",
        "        if IP_bow_prepruned[element] == 0:\n",
        "            IP_bow_prepruned[element] = 1\n",
        "\n",
        "        weighted_diff += IP_bow_prepruned[element]\n",
        "\n",
        "        if weighted_diff > 0:\n",
        "            weight_ratio = abs(IP_bow_prepruned[element] / new_NP)\n",
        "            if weight_ratio > 10:\n",
        "                weight_ratio = 10\n",
        "            # weighted_diff = int(weighted_diff + (weighted_diff * weight_ratio * 0.2))\n",
        "            weighted_diff = int(weighted_diff * weight_ratio)\n",
        "        else:\n",
        "            weight_ratio = abs(new_NP / IP_bow_prepruned[element])\n",
        "            if weight_ratio > 10:\n",
        "                weight_ratio = 10\n",
        "            # weighted_diff = int(weighted_diff + (weighted_diff * weight_ratio * 0.2))\n",
        "            weighted_diff = int(weighted_diff * weight_ratio)\n",
        "    else:\n",
        "        if new_NP < -10:\n",
        "            weighted_diff *= 5\n",
        "        else:\n",
        "            weighted_diff *= -new_NP\n",
        "    experimental_weighted_bow[element] = weighted_diff\n",
        "\n",
        "for element in IP_bow_prepruned:\n",
        "    if element not in experimental_weighted_bow or NP_bow_prepruned[element] == 0:\n",
        "        experimental_weighted_bow[element] = IP_bow_prepruned[element]"
      ]
    },
    {
      "cell_type": "code",
      "execution_count": null,
      "metadata": {
        "colab": {
          "background_save": true
        },
        "id": "gbMg3qGGlE8v"
      },
      "outputs": [],
      "source": [
        "write_dict_to_file('AZ_experimental_weighted_bow.txt', experimental_weighted_bow)"
      ]
    },
    {
      "cell_type": "code",
      "execution_count": null,
      "metadata": {
        "colab": {
          "background_save": true
        },
        "id": "QZimhgtZlE8w"
      },
      "outputs": [],
      "source": []
    },
    {
      "cell_type": "code",
      "execution_count": null,
      "metadata": {
        "colab": {
          "background_save": true
        },
        "id": "ahnP9da6lE8w"
      },
      "outputs": [],
      "source": []
    },
    {
      "cell_type": "code",
      "execution_count": null,
      "metadata": {
        "colab": {
          "background_save": true
        },
        "id": "hx62_SyylE8w"
      },
      "outputs": [],
      "source": []
    },
    {
      "cell_type": "code",
      "execution_count": null,
      "metadata": {
        "colab": {
          "background_save": true
        },
        "id": "Sss9vU91lE8w",
        "outputId": "cc221442-97b3-4ff0-bbfc-5fcf26a7e2ac"
      },
      "outputs": [
        {
          "name": "stdout",
          "output_type": "stream",
          "text": [
            "212384\n",
            "5566\n"
          ]
        }
      ],
      "source": [
        "pruned_experimental_weighted_bow = {}\n",
        "\n",
        "for element in experimental_weighted_bow:\n",
        "    if abs(experimental_weighted_bow[element]) > 240:\n",
        "        pruned_experimental_weighted_bow[element] = experimental_weighted_bow[element]\n",
        "\n",
        "print(len(experimental_weighted_bow))\n",
        "print(len(pruned_experimental_weighted_bow))"
      ]
    },
    {
      "cell_type": "code",
      "execution_count": null,
      "metadata": {
        "colab": {
          "background_save": true
        },
        "id": "jfiV9mdLlE8x"
      },
      "outputs": [],
      "source": [
        "write_dict_to_file('AZ_pruned_experimental_weighted_bow.txt', pruned_experimental_weighted_bow)"
      ]
    },
    {
      "cell_type": "code",
      "execution_count": null,
      "metadata": {
        "colab": {
          "background_save": true
        },
        "id": "1zA5PexflE8y"
      },
      "outputs": [],
      "source": [
        "pruned_experimental_weighted_bow = make_pruned_experimental_dic('AZ')"
      ]
    },
    {
      "cell_type": "code",
      "execution_count": null,
      "metadata": {
        "colab": {
          "background_save": true
        },
        "id": "c_zdp1uXlE8y"
      },
      "outputs": [],
      "source": []
    },
    {
      "cell_type": "code",
      "execution_count": null,
      "metadata": {
        "colab": {
          "background_save": true
        },
        "id": "V0vtYVlqlE8y"
      },
      "outputs": [],
      "source": []
    },
    {
      "cell_type": "code",
      "execution_count": null,
      "metadata": {
        "colab": {
          "background_save": true
        },
        "id": "a6sv4cQtlE8y"
      },
      "outputs": [],
      "source": []
    },
    {
      "cell_type": "code",
      "execution_count": null,
      "metadata": {
        "colab": {
          "background_save": true
        },
        "id": "dJJmjdXOlE8z",
        "outputId": "558d646d-0e85-4db9-ed21-b386c3fb6914"
      },
      "outputs": [
        {
          "name": "stdout",
          "output_type": "stream",
          "text": [
            "number of stopwords removed from IP:\n",
            "103\n",
            "number of lemmas removed from NP:\n",
            "162\n"
          ]
        }
      ],
      "source": [
        "stopword_count = 0\n",
        "lemma_count = 0\n",
        "\n",
        "for element in list(pruned_experimental_weighted_bow.keys()):\n",
        "    if element in stop_words:\n",
        "        del pruned_experimental_weighted_bow[element]\n",
        "        stopword_count += 1\n",
        "    else:\n",
        "        lemma = lemmatizer.lemmatize(element)\n",
        "        if element != lemma:\n",
        "            if lemma not in pruned_experimental_weighted_bow:\n",
        "                pruned_experimental_weighted_bow[lemma] = pruned_experimental_weighted_bow[element]\n",
        "            else:\n",
        "                pruned_experimental_weighted_bow[lemma] += pruned_experimental_weighted_bow[element]\n",
        "                lemma_count += 1\n",
        "            del pruned_experimental_weighted_bow[element]\n",
        "\n",
        "\n",
        "print('number of stopwords removed from IP:')\n",
        "print(stopword_count)\n",
        "\n",
        "print('number of lemmas removed from NP:')\n",
        "print(lemma_count)"
      ]
    },
    {
      "cell_type": "code",
      "execution_count": null,
      "metadata": {
        "colab": {
          "background_save": true
        },
        "id": "GVZL_EeHlE8z"
      },
      "outputs": [],
      "source": []
    },
    {
      "cell_type": "code",
      "execution_count": null,
      "metadata": {
        "colab": {
          "background_save": true
        },
        "id": "yYj3xbCOlE8z"
      },
      "outputs": [],
      "source": []
    },
    {
      "cell_type": "code",
      "execution_count": null,
      "metadata": {
        "colab": {
          "background_save": true
        },
        "id": "z17NaUQDlE8z"
      },
      "outputs": [],
      "source": []
    },
    {
      "cell_type": "code",
      "execution_count": null,
      "metadata": {
        "colab": {
          "background_save": true
        },
        "id": "LgTvb0QtlE80"
      },
      "outputs": [],
      "source": [
        "with open(f'es.txt', 'r') as file:\n",
        "    lines = file.readlines()\n",
        "    spanish_lines = [line.rstrip() for line in lines]\n",
        "\n",
        "with open(f'words_to_remove.txt', 'r') as file:\n",
        "    lines = file.readlines()\n",
        "    extra_to_remove = [line.rstrip() for line in lines]\n",
        "\n",
        "with open(f'words_to_not_remove.txt', 'r') as file:\n",
        "    lines = file.readlines()\n",
        "    not_to_remove = [line.rstrip() for line in lines]\n",
        "\n",
        "\n",
        "words_to_remove = []\n",
        "\n",
        "for element in pruned_experimental_weighted_bow:\n",
        "    try:\n",
        "        if (element in spanish_lines or detect(element) == 'ar' or detect(element) == 'ja' or detect(element) == 'ko' or detect(element) == 'fa' or detect(element) == 'hi'\n",
        "            or detect(element) == 'ru' or detect(element) == 'he' or detect(element) == 'ur' or detect(element) == 'bg' or element in extra_to_remove) and not element in not_to_remove:\n",
        "            words_to_remove.append(element)\n",
        "\n",
        "    except Exception as e:\n",
        "        pass"
      ]
    },
    {
      "cell_type": "code",
      "execution_count": null,
      "metadata": {
        "colab": {
          "background_save": true
        },
        "id": "ZJvBqxIUlE80"
      },
      "outputs": [],
      "source": [
        "for element in words_to_remove:\n",
        "    del pruned_experimental_weighted_bow[element]"
      ]
    },
    {
      "cell_type": "code",
      "execution_count": null,
      "metadata": {
        "colab": {
          "background_save": true
        },
        "id": "t2qmK4sOlE80",
        "outputId": "f0d7be22-e037-4cc1-e82d-b96c575dfe33"
      },
      "outputs": [
        {
          "name": "stdout",
          "output_type": "stream",
          "text": [
            "['que', 'de', 'en', 'من', 'و', 'el', 'por', 'se', 'في', 'para', 'la', 'te', 'si', 'الله', 'ما', 'على', 'una', 'mi', '،', 'لا', 'los', 'como', 'pero', 'im', 'su', 'más', 'ngata', 'كل', 'con', 'un', 'cuando', 'todo', 'esta', 'ولا', 'quiero', 'este', 'bien', 'ان', 'del', 'hoy', 'porque', 'gracias', 'عن', 'ni', 'يا', 'ser', 'هذا', 'todos', 'اللي', 'muy', 'está', 'le', 'día', 'siempre', 'mejor', 'vida', 'مع', 'eso', 'estoy', 'لو', 'tengo', 'dios', 'qué', 'ver', 'así', 'شي', 'hasta', 'tu', 'كان', 'ahora', 'tiene', 'voy', 'decadenceaz', 'بس', 'al', 'انا', 'desde', 'gente', 'hace', 'yo', 'hacer', 'nunca', 'والله', 'ya', 'fue', 'eres', 'asussc', 'и', 'feliz', 'الي', 'amor', 'aquí', 'quien', 'vez', 'esto', 'اللهم', 'donde', 'años', 'estar', 'algo', 'noche', 'tú', 'mundo', 'hay', 'nada', 'pues', 'lo', 'tus', 'é', 'sobre', 'días', 'también', 'à', 'amo', 'cosas', 'tiempo', 'на', 'لي', 'puede', 'telemundoaz', 'بعد', 'да', 'alguien', 'saludos', 'mañana', 'مو', 'لك', 'puedo', 'tener', 'cada', 'قبل', 'ese', 'jajaja', 'año', 'не', 'nadie', 'sus', 'أن', 'otra', 'اذا', 'gusta', 'semana', 'creo', 'tanto', 'عليه', 'méxico', 'bomboclaat', 'je', 'ha', 'menos', 'انت', 'nuevo', 'otro', 'toda', 'sagarcher', 'muchas', 'nuestro', 'corazón', 'estas', 'mismo', 'foto', 'verdad', 'mais', 'entre', 'quiere', 'tienes', 'poder', 'estamos', 'dec', 'هو', 'después', 'فيه', 'soy', 'mucho', 'buen', 'jan', 'يوم', 'vamos', 'corona', 'cómo', 'lopezobrador', 'cuenta', 'na', 'ganas', 'cest', 'حتى', 'extraño', 'anagascaa', 'sotu', 'gran', 'asi', 'siento', 'estos', 'pasa', 'buenos', 'يارب', 'له', 'ako', 'hora', 'unos', 'falta', 'dijo', 'mujer', 'خير', 'video', '؛', 'ellos', 'اليوم', 'sabes', 'اي', 'dormir', 'sé', 'ahí', 'poco', 'mierda', 'momento', 'sabe', 'الناس', 'е', 'presidente', 'ustedes', 'الا', 'hombre', 'sí', 'amas', 'q', 'ebyzio', 'за', 'bueno', 'قلبي', 'quieres', 'buenas', 'ka', 'ti', 'او', 'da', 'وانت', 'عشان', 'اني', 'não', 'لكن', 'واحد', 'أنا', 'verga', 'bonito', 'casi', 'vivo', 'madre', 'ir', 'bir', 'abrazo', 'lugar', 'dicen', 'estás', 'están', 'veo', 'nosotros', 'muchos', 'luego', 'fotos', 'historia', 'tcpacksyn', 'partido', 'somos', 'contigo', 'لما', 'لم', 'nuestra', 'noyes', 'عام', 'tarde', 'novio', 'felicidades', 'haciendo', 'انه', 'uma', 'comer', 'од', 'conmigo', 'غير', 'mamá', 'hai', 'راح', 'son', 'mujeres', 'une', 'gusto', 'يعني', 'بخير', 'بين', 'asu', 'nueva', 'كنت', 'buena', 'فيها', 'mí', 'puedes', 'tienen', 'mal', 'digo', 'hizo', 'فيك', 'الذي', 'مثل', 'jajajaja', 'به', 'عليك', 'ko', 'ando', 'علي', 'الى', 'nuestros', 'в', 'اكثر', 'viernes', 'noches', 'vivir', 'hija', 'إلا', 'cumpleaños', 'tem', 'estados', 'para82nd1', 'هي', 'ميلان', 'sin', 'hecho', 'uno', 'يبارك', 'pinche', 'triste', 'unidos', 'كيف', 'احد', 'nombre', 'lado', 'الحمدلله', 'التي', 'إلى', 'contra', 'mano', 'niños', 'dia', 'pra', 'saben', 'حق', 'tcpsyn', 'entonces', 'يكون', 'comida', 'وش', 'شخص', 'cosa', 'ojos', 'cabeza', 'dar', 'gtgt', 'ليش', 'só', 'aqui', 'إن', 'هم', 'parte', 'شيء', 'casa', 'canción', 'será', 'alv', 'ми', 'وانا', 'اول', 'هذي', 'ربي', 'qui', 'حبيبي', 'الحين', 'hermoso', 'sa', 'decir', 'país', 'habla', 'visto', 'го', 'neta', 'ven', 'شاء', 'escuela', 'vale', 'equipo', 'sola', 'هل', 'cpac', 'انك', 'llega', 'الف', 'عندي', 'هذه', 'شنو', 'espero', 'estaba', 'fin', 'queda', 'بعض', 'لازم', 'قد', 'veces', 'ng', 'cuerpo', 'hambre', 'الكويت', 'العالم', 'الدنيا', 'problema', 'e', 'رب', 'juego', 'eu', 'dinero', 'pendejo', 'hacen', 'especial', 'أنت', 'صباح', 'igual', 'español', 'تكون', 'di', 'papá', 'وين', 'محمد', 'pobre', 'bendiciones', 'لنا', 'wey', 'كانت', 'نفس', 'jaja', 'أو', 'chivas', 'temporada', 'comunidad', 'manos', 'mala', 'hijo', 'salir', 'primera', 'الخير', 'tenemos', 'فقط', 'لله', 'esos', 'necesito', 'señor', 'يقول', 'voz', 'fuera', 'لها', 'llorar', 'sigue', 'я', 'amigo', 'wala', 'الحمد', 'ناس', 'اخر', 'niño', 'domingo', 'си', 'الحياة', 'mga', 'а', 'mooshushu', 'esa', 'ayer', 'vaya', 'deseo', 'eeuu', 'قال', 'بو', 'quieren', 'ممكن', 'aunque', 'él', 'hermano', 'horas', 'ومن', 'بدون', 'familia', 'dentro', 'بالله', 'parece', 'hermosa', 'novia', 'نفسي', 'مبروك', 'mexicanas', 'puro', 'ي', 'dice', 'vous', 'vemos', 'hola', 'calor', 'افضل', 'ella', 'mucha', 'nye', 'قاعد', 'ang', 'hablar', 'جداً', 'estado', 'كله', 'ابي', 'لن', 'شلون', 'azul', 'لاعب', 'um', 'senmcsallyaz', 'ب', 'إذا', 'خلاص', 'amiga', 'ahorita', 'meu', 'عليكم', 'ex', 'daca', 'bendiga', 'mejores', 'بـ', 'بك', 'ki', 'sentir', 'isso', 'بكل', 'منك', 'منه', 'besos', 'listo', 'sólo', 'وما', 'mientras', 'صار', 'dejavuvideo', 'cara', 'anda', 'متى', 'claro', 'إني', 'fútbol', 'muertos', 'صح', 'gobierno', 'مره', 'مباراة', 'saber', 'epn', 'otros', 'sueño', 'unas', 'ay', 'lunes', 'sido', 'ع', 'سنة', 'acaba', 'عند', 'لان', 'aún', 'hijos', 'trabajar', 'serio', 'hice', 'عادي', 'كم', 'encanta', 'الوقت', 'pueden', 'lang', 'futuro', 'بشكل', 'ترا', 'haber', 'وقت', 'ضد', 'از', 'miedo', 'peor', 'lindo', 'لهم', 'tanta', 'طيب', 'llegar', 'odio', 'viene', 'تم', 'gaga', 'nao', 'importa', 'caso', 'pasado', 'ولكن', 'عاد', 'tal', 'cabron', 'acuerdo', 'وهو', 'شوي', 'debe', 'aire', 'jajajajaja', 'pena', 'em', 'sino', 'ذا', 'seguir', 'quién', 'الحب', 'navidad', 'أكثر', 'أحد', 'ليس', 'mames', 'súper', 'عظم', 'prefieren', 'viendo', 'pq', 'القلب', 'sábado', 'اشوف', 'مدريد', 'tambien', 'trabajo', 'كثر', 'مليون', 'قلت', 'عندما', 'usted', 'misma', 'quinceaneradj', 'ама', 'يالله', 'minutos', 'culo', 'anoche', 'han', 'amigas', 'السلام', 'ف', 'suerte', 'ojalá', 'fuerte', 'todavía', 'ياخي', 'aviso', 'tomar', 'يصير', 'الفريق', 'امريكا', 'fiesta', 'lejos', 'جميل', 'durante', 'كذا', 'عسى', 'هنا', 'ثم', 'الموسم', 'يابو', 'تحت', 'يمكن', 'villatuscana', 'belleza', 'estan', 'اقول', 'hago', 'palabras', 'pensar', 'عيني', 'iba', 'información', 'importante', 'primero', 'что', 'sur', 'رو', 'لـ', 'excelente', 'عليها', 'segundo', 'risa', 'grupo', 'pasar', 'dejar', 'dije', 'quisiera', 'محد', 'tipo', 'est', 'علينا', 'بن', 'که', 'هدف', 'حياتي', 'bu', 'van', 'perro', 'deja', 'لكل', 'مرة', 'haces', 'منو', 'تقول', 'único', 'minha', 'عني', 'vai', 'كبير', 'fui', 'cierto', '場所', 'gana', 'انتي', 'cualquier', 'poner', 'puta', 'لمن', 'ودي', 'apoyo', 'había', 'كما', 'acá', 'entiendo', 'هناك', 'منها', 'realidad', 'الدوري', 'لكم', 'cual', 'ال', 'ley', 'pura', 'باقي', 'نفسك', 'forma', 'manera', 'ليه', 'شهر', 'sigo', 'بما', 'ele', 'último', 'عمري', 'مني', 'avec', 'muerte', 'само', 'medio', 'andar', 'فيني', 'زين', 'شكراً', 'ciudad', 'ganar', 'ayuda', 'ثاني', 'السعودية', '،،', 'seguro', 'niña', 'كلام', 'hermana', 'música', 'mira', 'naman', 'فريق', 'وكل', 'feo', 'اكبر', 'muito', 'acabo', 'ترى', 'مادري', 'punto', 'عندك', 'salud', 'viejo', 'pais', 'بها', 'فوق', 'tenía', 'احب', 'رمضان', 'boca', 'trae', 'boxeo', 'agora', 'وأنا', 'vou', 'frente', 'قلبك', 'momentos', 'م', 'nacional', 'العمر', 'بعمرك', 'ذلك', 'esse', 'você', 'الكلام', 'حلو', 'تو', 'mexicana', 'ولو', 'cambio', 'quando', 'sería', 'detalles', 'с', 'pase', 'دي', 'كلها', 'الثاني', 'أجمل', 'pone', 'الان', 'تبي', 'أي', 'volver', 'comprar', 'carrera', 'amlo', 'قلب', 'المباراة', 'mensaje', 'عليهم', 'hermanos', 'são', 'جدا', 'perder', 'شفت', 'نفسه', 'respeto', 'وان', 'esperando', 'com', 'tema', 'jugar', 'ام', 'hablando', 'ريال', '¿qué', 'pregunta', 'pasó', 'tormenta', 'اتوقع', 'mundial', 'это', 'جميع', 'المعماري', 'الطيب', 'concierto', 'já', 'احسن', 'guerra', 'بل', 'сум', 'بسبب', 'asco', 'ja', 'jueves', 'espera', 'camino', 'ante', 'النوم', 'clase', 'مافي', 'عنه', 'viaje', 'duele', 'algún', 'دائماً', 'تعرف', 'querer', 'der', 'pelo', 'jajajajajaja', 'tras', 'الشخص', 'الاتحاد', 'dicho', 'احلى', 'razón', 'escuchar', 'يلا', 'pensando', 'حال', 'bailar', 'viva', 'essa', 'malo', 'غيرك', 'وإن', 'وايد', 'انها', 'عنك', 'طول', 'cañón', 'programa', 'ابو', 'haga', 'sueños', 'foi', 'quería', 'بي', 'ano', 'estadio', 'عنده', 'خلال', 'مهما', 'جديد', 'دون', 'ме', 'lista', 'esperamos', 'فلا', 'felicidad', 'nivel', 'jai', 'gol', 'pienso', 'junto', 'fueron', 'publicar', 'tenga', 'mente', 'oportunidad', 'mío', 'última', 'ke', 'regreso', 'ça', 'تويتر', 'وفي', 'اتمنى', 'cerca', 'احس', 'كثير', 'أفضل', 'جذي', 'خل', 'منهم', 'معك', 'siendo', 'ala', 'واضح', 'العراق', 'millones', 'آخر', 'ذي', 'bellletstalk', 'ألف', 'الوحيد', 'nuestras', 'parnas', 'حين', 'حب', 'احبك', 'mexicano', 'din', 'primer', 'culpa', 'vos', 'et', 'مكان', 'quiera', 'كلهم', 'العظيم', 'اجمل', 'tá', 'carro', 'votar', 'demás', 'jalshehab', 'با', 'dolor', 'fácil', 'قريب', 'faihad', 'اعرف', 'وحده', 'بلا', 'عندنا', 'до', 'mando', 'pongo', 'eh', 'llevo', 'siente', 'existe', 'najahmali', 'hoje', 'الغالي', 'صحيح', 'مالي', 'ne', 'الكل', 'cumple', 'يبي', 'نحن', 'فيديو', 'يلعب', 'لين', 'dejo', 'dans', 'beso', 'gila', 'mar', 'querido', 'حول', 'venir', 'necesita', 'شكرا', 'allá', 'bajo', 'llego', 'كلمة', 'problemas', 'según', 'وأنت', 'عدنانرضوان', 'aries', 'وهذا', 'الشعب', 'daño', 'podemos', 'در', 'بعدين', 'رغم', 'kak', 'اجركم', 'مش', 'tampoco', 'ادري', 'doy', 'مبارك', 'otras', 'vacaciones', 'أول', 'jugadores', 'يطلع', 'اهم', 'الموضوع', 'خلق', 'tequila', 'bem', 'desierto', 'oye', 'il', 'dean', 'va', 'الوضع', 'عبدالله', 'ميسي', 'این', 'pasando', 'للحين', 'طلع', 'ognaegleria', 'jamás', 'xismosita', 'toca', 'du', 'النادي', 'rato', 'dando', 'leer', 'increíble', 'apenas', 'غلط', 'ماله', 'أكبر', 'recuerdo', 'معه', 'algunos', 'بأن', 'era', 'أحبك', 'creer', 'مافيه', 'как', 'aun', 'يعرف', 'يجزاك', 'hacia', 'pasan', 'queremos', 'única', 'vergüenza', 'demasiado', 'سبحان', 'boletos', 'شعور', 'usar', 'صوت', 'нема', 'tres', 'nieto', 'andas', 'guapo', 'dan', 'pa', 'فيهم', 'realmente', 'زي', 'éxito', 'regalo', 'noticias', 'है', 'tudo', 'ejemplo', 'ganó', 'المفروض', 'أحب', 'cambiar', 'alguna', 'severa', 'loca', 'manda', 'nota', 'pedo', 'loco', 'empezar', 'cuanto', 'اليوفي', 'incluye', 'الذين', 'شوف', 'صارت', 'сите', 'الليل', 'hablan', 'siguen', 'والفال', 'يقولون', 'felices', 'arriba', 'cena', 'quem', 'pie', 'amén', 'العمارة', 'busca', 'verte', 'chingo', 'lleva', 'مب', 'estudiantes', 'معاك', 'llegue', 'dónde', 'انام', 'ابن', 'è', 'وليس', 'مدري', 'orgullo', 'لانه', 'के', 'llama', 'sont', 'chingon', 'empleo', 'lev', 'gala', 'evento', 'palabra', 'نهاية', 'muero', 'احنا', 'سنه', 'entrar', 'conocer', 'تستاهل', 'temprano', 'امين', 'matar', 'وجهك', 'اريزونا', 'onda', 'قوي', 'روح', 'التوفيق', 'hubiera', 'تعال', 'bingo', 'ale', 'v', 'puto', 'pro', 'fait', 'عيوني', 'صرت', 'اخوي', 'quienes', 'talaga', 'شر', 'diga', 'jugador', 'حرام', 'يرحمه', 'vuelta', 'اما', 'الشوق', 'دوري', 'esas', 'nem', 'oc', 'bella', 'debo', 'hagan', 'compartir', 'comme', 'عمر', 'صورة', 'الجميع', 'cama', 'ايام', 'قول', 'debería', 'kanau', 'باب', 'عمل', 'semanas', 'tigres', 'ainda', 'çok', 'تويت', 'mesmo', 'ba', 'bonita', 'che', 'yang', 'dossier', 'vídeo', 'visita', 'justicia', 'معي', 'ليت', 'وجه', 'عيونك', 'نعم', 'но', 'esperar', 'hdighn', 'corazon', 'banda', 'مستحيل', 'quand', 'رجل', 'podría', 'hicieron', 'seria', 'ساعة', 'derecho', 'многу', 'darle', 'دايم', 'queria', 'جامعة', 'régimen', 'سنين', 'gustan', 'anime', 'au', 'virgo', 'ojo', 'puso', 'tengas', 'زمان', 'ساعات', 'تدري', 'posible', 'إليك', 'امي', 'llevar', 'ارحم', 'creen', 'يوفقك', 'seguridad', 'ماهو', 'بداية', 'tiempos', 'قوة', 'encontrar', 'segunda', 'próximo', 'ama', 'تحب', 'القادم', 'بعيد', 'جميلة', 'حيل', 'pueda', 'tuve', 'ropa', 'اجرنا', 'libertad', 'مدرب', 'wmo', 'nous', 'الاول', 'طبيعي', 'سبب', 'entrada', 'نص', 'quedo', 'diciendo', 'دام', 'العمل', 'caga', 'البشر', 'experiencia', 'يجي', 'lame', 'trauma', 'ignores', 'cafe', 'ff', 'vista', 'sota', 'augusta', 'paso', 'cintas', 'via', 'allurasbrites', 'cruz', 'guerreros', 'peoria', 'mesa', 'no', 'negro', 'noma', 'vega', 'me', 'ce']\n"
          ]
        }
      ],
      "source": [
        "print(words_to_remove)"
      ]
    },
    {
      "cell_type": "code",
      "execution_count": null,
      "metadata": {
        "colab": {
          "background_save": true
        },
        "id": "3LFfttK4lE81",
        "outputId": "52d2a11a-297b-4f8a-e606-aefe151f5267"
      },
      "outputs": [
        {
          "name": "stdout",
          "output_type": "stream",
          "text": [
            "1349\n"
          ]
        }
      ],
      "source": [
        "print(len(words_to_remove))"
      ]
    },
    {
      "cell_type": "code",
      "execution_count": null,
      "metadata": {
        "colab": {
          "background_save": true
        },
        "id": "SvA_Z2FqlE81",
        "outputId": "271efe87-8266-4ea6-b8fb-fc58ef1808a3"
      },
      "outputs": [
        {
          "name": "stdout",
          "output_type": "stream",
          "text": [
            "3952\n"
          ]
        }
      ],
      "source": [
        "print(len(pruned_experimental_weighted_bow))"
      ]
    },
    {
      "cell_type": "code",
      "execution_count": null,
      "metadata": {
        "colab": {
          "background_save": true
        },
        "id": "t4n6NMNblE81"
      },
      "outputs": [],
      "source": [
        "write_dict_to_file('AZ_pruned_experimental_weighted_bow.txt', pruned_experimental_weighted_bow)\n",
        "pruned_experimental_weighted_bow = make_pruned_experimental_dic('AZ')"
      ]
    },
    {
      "cell_type": "code",
      "execution_count": null,
      "metadata": {
        "colab": {
          "background_save": true
        },
        "id": "kSCjKJi1lE82",
        "outputId": "88ae6f0f-51c8-4b1e-e2f7-5eef68a05434"
      },
      "outputs": [
        {
          "name": "stdout",
          "output_type": "stream",
          "text": [
            "job\n",
            "Weighted value  -  125810\n",
            "IP freq  -  180664\n",
            "NP freq  -  107717\n",
            "\n",
            "az\n",
            "Weighted value  -  104694\n",
            "IP freq  -  195741\n",
            "NP freq  -  127530\n",
            "\n",
            "latest\n",
            "Weighted value  -  53667\n",
            "IP freq  -  75673\n",
            "NP freq  -  44274\n",
            "\n",
            "hiring\n",
            "Weighted value  -  45555\n",
            "IP freq  -  60562\n",
            "NP freq  -  34563\n",
            "\n",
            "phoenix\n",
            "Weighted value  -  44551\n",
            "IP freq  -  123564\n",
            "NP freq  -  90819\n",
            "\n",
            "click\n",
            "Weighted value  -  43668\n",
            "IP freq  -  62932\n",
            "NP freq  -  37152\n",
            "\n",
            "opening\n",
            "Weighted value  -  39915\n",
            "IP freq  -  56740\n",
            "NP freq  -  33711\n",
            "\n",
            "apply\n",
            "Weighted value  -  33750\n",
            "IP freq  -  46799\n",
            "NP freq  -  27190\n",
            "\n",
            "work\n",
            "Weighted value  -  33134\n",
            "IP freq  -  102028\n",
            "NP freq  -  77016\n",
            "\n",
            "\n",
            "Weighted value  -  30911\n",
            "IP freq  -  492781\n",
            "NP freq  -  463694\n",
            "\n",
            "great\n",
            "Weighted value  -  26920\n",
            "IP freq  -  94729\n",
            "NP freq  -  73766\n",
            "\n",
            "fit\n",
            "Weighted value  -  26699\n",
            "IP freq  -  40328\n",
            "NP freq  -  24264\n",
            "\n",
            "recommend\n",
            "Weighted value  -  26609\n",
            "IP freq  -  37698\n",
            "NP freq  -  22099\n",
            "\n",
            "day\n",
            "Weighted value  -  23822\n",
            "IP freq  -  100637\n",
            "NP freq  -  83195\n",
            "\n",
            "today\n",
            "Weighted value  -  22286\n",
            "IP freq  -  81326\n",
            "NP freq  -  64919\n",
            "\n",
            "see\n",
            "Weighted value  -  20068\n",
            "IP freq  -  111697\n",
            "NP freq  -  94685\n",
            "\n",
            "anyone\n",
            "Weighted value  -  19703\n",
            "IP freq  -  57576\n",
            "NP freq  -  42896\n",
            "\n",
            "morning\n",
            "Weighted value  -  19166\n",
            "IP freq  -  32130\n",
            "NP freq  -  20474\n",
            "\n",
            "want\n",
            "Weighted value  -  15632\n",
            "IP freq  -  102383\n",
            "NP freq  -  88821\n",
            "\n",
            "happy\n",
            "Weighted value  -  15365\n",
            "IP freq  -  73240\n",
            "NP freq  -  60539\n",
            "\n",
            "hospitality\n",
            "Weighted value  -  14471\n",
            "IP freq  -  4980\n",
            "NP freq  -  1275\n",
            "\n",
            "join\n",
            "Weighted value  -  14147\n",
            "IP freq  -  28144\n",
            "NP freq  -  18729\n",
            "\n",
            "birthday\n",
            "Weighted value  -  14003\n",
            "IP freq  -  43922\n",
            "NP freq  -  33304\n",
            "\n",
            "view\n",
            "Weighted value  -  13664\n",
            "IP freq  -  22711\n",
            "NP freq  -  14559\n",
            "\n",
            "mother\n",
            "Weighted value  -  12751\n",
            "IP freq  -  4249\n",
            "NP freq  -  4085\n",
            "\n",
            "interested\n",
            "Weighted value  -  12743\n",
            "IP freq  -  21593\n",
            "NP freq  -  13579\n",
            "\n",
            "nursing\n",
            "Weighted value  -  12720\n",
            "IP freq  -  6087\n",
            "NP freq  -  1970\n",
            "\n",
            "detail\n",
            "Weighted value  -  12338\n",
            "IP freq  -  525\n",
            "NP freq  -  490\n",
            "\n",
            "healthcare\n",
            "Weighted value  -  11998\n",
            "IP freq  -  9325\n",
            "NP freq  -  4078\n",
            "\n",
            "amp\n",
            "Weighted value  -  11727\n",
            "IP freq  -  136871\n",
            "NP freq  -  126069\n",
            "\n",
            "dbacks\n",
            "Weighted value  -  11498\n",
            "IP freq  -  12683\n",
            "NP freq  -  6652\n",
            "\n",
            "check\n",
            "Weighted value  -  11447\n",
            "IP freq  -  36935\n",
            "NP freq  -  28196\n",
            "\n",
            "read\n",
            "Weighted value  -  10963\n",
            "IP freq  -  31621\n",
            "NP freq  -  23480\n",
            "\n",
            "might\n",
            "Weighted value  -  10884\n",
            "IP freq  -  33039\n",
            "NP freq  -  24852\n",
            "\n",
            "near\n",
            "Weighted value  -  10407\n",
            "IP freq  -  10845\n",
            "NP freq  -  5534\n",
            "\n",
            "scottsdale\n",
            "Weighted value  -  10324\n",
            "IP freq  -  37333\n",
            "NP freq  -  29245\n",
            "\n",
            "chandler\n",
            "Weighted value  -  10012\n",
            "IP freq  -  21313\n",
            "NP freq  -  14501\n",
            "\n",
            "sale\n",
            "Weighted value  -  9904\n",
            "IP freq  -  3953\n",
            "NP freq  -  3260\n",
            "\n",
            "service\n",
            "Weighted value  -  9266\n",
            "IP freq  -  12654\n",
            "NP freq  -  8861\n",
            "\n",
            "team\n",
            "Weighted value  -  9100\n",
            "IP freq  -  42439\n",
            "NP freq  -  34549\n",
            "\n",
            "retail\n",
            "Weighted value  -  8456\n",
            "IP freq  -  6314\n",
            "NP freq  -  2699\n",
            "\n",
            "manager\n",
            "Weighted value  -  8454\n",
            "IP freq  -  13138\n",
            "NP freq  -  7994\n",
            "\n",
            "aas17\n",
            "Weighted value  -  8170\n",
            "IP freq  -  830\n",
            "NP freq  -  13\n",
            "\n",
            "health\n",
            "Weighted value  -  8126\n",
            "IP freq  -  17019\n",
            "NP freq  -  11519\n",
            "\n",
            "looking\n",
            "Weighted value  -  8122\n",
            "IP freq  -  36164\n",
            "NP freq  -  29531\n",
            "\n",
            "summer\n",
            "Weighted value  -  7824\n",
            "IP freq  -  13489\n",
            "NP freq  -  8537\n",
            "\n",
            "could\n",
            "Weighted value  -  7724\n",
            "IP freq  -  50571\n",
            "NP freq  -  43870\n",
            "\n",
            "bio\n",
            "Weighted value  -  7003\n",
            "IP freq  -  14318\n",
            "NP freq  -  9615\n",
            "\n",
            "med\n",
            "Weighted value  -  6810\n",
            "IP freq  -  4237\n",
            "NP freq  -  1625\n",
            "\n",
            "joseph\n",
            "Weighted value  -  6809\n",
            "IP freq  -  397\n",
            "NP freq  -  459\n",
            "\n",
            "last\n",
            "Weighted value  -  6583\n",
            "IP freq  -  47582\n",
            "NP freq  -  41799\n",
            "\n",
            "link\n",
            "Weighted value  -  6519\n",
            "IP freq  -  17032\n",
            "NP freq  -  12317\n",
            "\n",
            "youre\n",
            "Weighted value  -  6242\n",
            "IP freq  -  70980\n",
            "NP freq  -  65242\n",
            "\n",
            "center\n",
            "Weighted value  -  6046\n",
            "IP freq  -  12310\n",
            "NP freq  -  8255\n",
            "\n",
            "st\n",
            "Weighted value  -  5021\n",
            "IP freq  -  10228\n",
            "NP freq  -  6860\n",
            "\n",
            "themasters\n",
            "Weighted value  -  4956\n",
            "IP freq  -  727\n",
            "NP freq  -  93\n",
            "\n",
            "customerservice\n",
            "Weighted value  -  4947\n",
            "IP freq  -  2530\n",
            "NP freq  -  856\n",
            "\n",
            "comey\n",
            "Weighted value  -  4900\n",
            "IP freq  -  3859\n",
            "NP freq  -  1700\n",
            "\n",
            "tempe\n",
            "Weighted value  -  4855\n",
            "IP freq  -  24747\n",
            "NP freq  -  20688\n",
            "\n",
            "lunch\n",
            "Weighted value  -  4786\n",
            "IP freq  -  6983\n",
            "NP freq  -  4143\n",
            "\n",
            "nurse\n",
            "Weighted value  -  4715\n",
            "IP freq  -  7830\n",
            "NP freq  -  4887\n",
            "\n",
            "kimberl22092773\n",
            "Weighted value  -  4575\n",
            "IP freq  -  540\n",
            "NP freq  -  57\n",
            "\n",
            "specialist\n",
            "Weighted value  -  4527\n",
            "IP freq  -  4801\n",
            "NP freq  -  2471\n",
            "\n",
            "starbucks\n",
            "Weighted value  -  4509\n",
            "IP freq  -  6339\n",
            "NP freq  -  3704\n",
            "\n",
            "technician\n",
            "Weighted value  -  4502\n",
            "IP freq  -  4960\n",
            "NP freq  -  2600\n",
            "\n",
            "july\n",
            "Weighted value  -  4493\n",
            "IP freq  -  4459\n",
            "NP freq  -  2221\n",
            "\n",
            "breakfast\n",
            "Weighted value  -  4467\n",
            "IP freq  -  5995\n",
            "NP freq  -  3435\n",
            "\n",
            "yesterday\n",
            "Weighted value  -  4422\n",
            "IP freq  -  10368\n",
            "NP freq  -  7268\n",
            "\n",
            "physician\n",
            "Weighted value  -  4391\n",
            "IP freq  -  2882\n",
            "NP freq  -  1142\n",
            "\n",
            "charlottesville\n",
            "Weighted value  -  4255\n",
            "IP freq  -  1135\n",
            "NP freq  -  239\n",
            "\n",
            "hospital\n",
            "Weighted value  -  4113\n",
            "IP freq  -  6108\n",
            "NP freq  -  3650\n",
            "\n",
            "thanks\n",
            "Weighted value  -  4107\n",
            "IP freq  -  35612\n",
            "NP freq  -  31929\n",
            "\n",
            "gartnerscc\n",
            "Weighted value  -  4050\n",
            "IP freq  -  417\n",
            "NP freq  -  12\n",
            "\n",
            "analyst\n",
            "Weighted value  -  3998\n",
            "IP freq  -  4467\n",
            "NP freq  -  2357\n",
            "\n",
            "representative\n",
            "Weighted value  -  3944\n",
            "IP freq  -  4687\n",
            "NP freq  -  2545\n",
            "\n",
            "cv\n",
            "Weighted value  -  3826\n",
            "IP freq  -  148\n",
            "NP freq  -  110\n",
            "\n",
            "store\n",
            "Weighted value  -  3807\n",
            "IP freq  -  9187\n",
            "NP freq  -  6899\n",
            "\n",
            "professional\n",
            "Weighted value  -  3801\n",
            "IP freq  -  4319\n",
            "NP freq  -  2297\n",
            "\n",
            "supervisor\n",
            "Weighted value  -  3790\n",
            "IP freq  -  4889\n",
            "NP freq  -  2754\n",
            "\n",
            "school\n",
            "Weighted value  -  3731\n",
            "IP freq  -  27649\n",
            "NP freq  -  24361\n",
            "\n",
            "system\n",
            "Weighted value  -  3728\n",
            "IP freq  -  4490\n",
            "NP freq  -  4104\n",
            "\n",
            "shift\n",
            "Weighted value  -  3702\n",
            "IP freq  -  6367\n",
            "NP freq  -  4026\n",
            "\n",
            "assistant\n",
            "Weighted value  -  3651\n",
            "IP freq  -  5875\n",
            "NP freq  -  3623\n",
            "\n",
            "alert\n",
            "Weighted value  -  3643\n",
            "IP freq  -  3899\n",
            "NP freq  -  2128\n",
            "\n",
            "engineer\n",
            "Weighted value  -  3632\n",
            "IP freq  -  4305\n",
            "NP freq  -  2335\n",
            "\n",
            "patsrun\n",
            "Weighted value  -  3623\n",
            "IP freq  -  506\n",
            "NP freq  -  62\n",
            "\n",
            "5sosatkiss\n",
            "Weighted value  -  3610\n",
            "IP freq  -  394\n",
            "NP freq  -  33\n",
            "\n",
            "forecast\n",
            "Weighted value  -  3580\n",
            "IP freq  -  3431\n",
            "NP freq  -  1679\n",
            "\n",
            "coffee\n",
            "Weighted value  -  3576\n",
            "IP freq  -  9712\n",
            "NP freq  -  7098\n",
            "\n",
            "chase\n",
            "Weighted value  -  3535\n",
            "IP freq  -  4724\n",
            "NP freq  -  2702\n",
            "\n",
            "customer\n",
            "Weighted value  -  3524\n",
            "IP freq  -  6729\n",
            "NP freq  -  4416\n",
            "\n",
            "glendale\n",
            "Weighted value  -  3505\n",
            "IP freq  -  10407\n",
            "NP freq  -  7785\n",
            "\n",
            "mothersday\n",
            "Weighted value  -  3457\n",
            "IP freq  -  575\n",
            "NP freq  -  82\n",
            "\n",
            "sunday\n",
            "Weighted value  -  3457\n",
            "IP freq  -  9749\n",
            "NP freq  -  7492\n",
            "\n",
            "mostly\n",
            "Weighted value  -  3338\n",
            "IP freq  -  4701\n",
            "NP freq  -  2749\n",
            "\n",
            "class\n",
            "Weighted value  -  3313\n",
            "IP freq  -  14567\n",
            "NP freq  -  12104\n",
            "\n",
            "pool\n",
            "Weighted value  -  3309\n",
            "IP freq  -  5299\n",
            "NP freq  -  3262\n",
            "\n",
            "jackelynmgc\n",
            "Weighted value  -  3300\n",
            "IP freq  -  362\n",
            "NP freq  -  32\n",
            "\n",
            "woke\n",
            "Weighted value  -  3279\n",
            "IP freq  -  7198\n",
            "NP freq  -  4945\n",
            "\n"
          ]
        }
      ],
      "source": [
        "for i in range(1, 100):\n",
        "    element = list(pruned_experimental_weighted_bow.keys())[-i]\n",
        "    if element not in IP_bow_prepruned:\n",
        "        IP_bow_prepruned[element] = 0\n",
        "    if element not in NP_bow_prepruned:\n",
        "        NP_bow_prepruned[element] = 0\n",
        "    print(element)\n",
        "    print('Weighted value  - ', pruned_experimental_weighted_bow[element])\n",
        "    print('IP freq  - ', IP_bow_prepruned[element])\n",
        "    print('NP freq  - ', int(NP_bow_prepruned[element] / np_to_ip_ratio))\n",
        "    print()"
      ]
    },
    {
      "cell_type": "code",
      "execution_count": null,
      "metadata": {
        "colab": {
          "background_save": true
        },
        "id": "iPJ8uigKlE82",
        "outputId": "f932c5d0-f54e-4ffa-f745-d0b9dbcb9e9e"
      },
      "outputs": [
        {
          "name": "stdout",
          "output_type": "stream",
          "text": [
            "christmas\n",
            "Weighted value  -  -77874\n",
            "IP freq  -  1389\n",
            "NP freq  -  11118\n",
            "\n",
            "thanksgiving\n",
            "Weighted value  -  -26470\n",
            "IP freq  -  288\n",
            "NP freq  -  2935\n",
            "\n",
            "merry\n",
            "Weighted value  -  -23580\n",
            "IP freq  -  142\n",
            "NP freq  -  2500\n",
            "\n",
            "valentine\n",
            "Weighted value  -  -20870\n",
            "IP freq  -  45\n",
            "NP freq  -  516\n",
            "\n",
            "wpmoychallenge\n",
            "Weighted value  -  -16800\n",
            "IP freq  -  0\n",
            "NP freq  -  3360\n",
            "\n",
            "i️\n",
            "Weighted value  -  -16596\n",
            "IP freq  -  220\n",
            "NP freq  -  2024\n",
            "\n",
            "quarantine\n",
            "Weighted value  -  -16170\n",
            "IP freq  -  26\n",
            "NP freq  -  1643\n",
            "\n",
            "virus\n",
            "Weighted value  -  -15490\n",
            "IP freq  -  124\n",
            "NP freq  -  1639\n",
            "\n",
            "coronavirus\n",
            "Weighted value  -  -15015\n",
            "IP freq  -  0\n",
            "NP freq  -  3003\n",
            "\n",
            "tonight\n",
            "Weighted value  -  -11966\n",
            "IP freq  -  25648\n",
            "NP freq  -  33766\n",
            "\n",
            "year\n",
            "Weighted value  -  -10691\n",
            "IP freq  -  33893\n",
            "NP freq  -  41139\n",
            "\n",
            "holiday\n",
            "Weighted value  -  -10233\n",
            "IP freq  -  1272\n",
            "NP freq  -  3065\n",
            "\n",
            "tomorrow\n",
            "Weighted value  -  -10209\n",
            "IP freq  -  13951\n",
            "NP freq  -  20799\n",
            "\n",
            "😂\n",
            "Weighted value  -  -9822\n",
            "IP freq  -  36657\n",
            "NP freq  -  44710\n",
            "\n",
            "pandemic\n",
            "Weighted value  -  -9420\n",
            "IP freq  -  12\n",
            "NP freq  -  954\n",
            "\n",
            "؟\n",
            "Weighted value  -  -9410\n",
            "IP freq  -  6\n",
            "NP freq  -  947\n",
            "\n",
            "covid19\n",
            "Weighted value  -  -9255\n",
            "IP freq  -  0\n",
            "NP freq  -  1851\n",
            "\n",
            "😂😂😂\n",
            "Weighted value  -  -8551\n",
            "IP freq  -  9466\n",
            "NP freq  -  14899\n",
            "\n",
            "worldseries\n",
            "Weighted value  -  -7900\n",
            "IP freq  -  19\n",
            "NP freq  -  809\n",
            "\n",
            "game\n",
            "Weighted value  -  -7594\n",
            "IP freq  -  32787\n",
            "NP freq  -  38289\n",
            "\n",
            "halloween\n",
            "Weighted value  -  -6868\n",
            "IP freq  -  1785\n",
            "NP freq  -  4506\n",
            "\n",
            "yes\n",
            "Weighted value  -  -6637\n",
            "IP freq  -  24298\n",
            "NP freq  -  28726\n",
            "\n",
            "superbowl\n",
            "Weighted value  -  -6619\n",
            "IP freq  -  119\n",
            "NP freq  -  949\n",
            "\n",
            "2020\n",
            "Weighted value  -  -6524\n",
            "IP freq  -  3083\n",
            "NP freq  -  6284\n",
            "\n",
            "oscar\n",
            "Weighted value  -  -6262\n",
            "IP freq  -  353\n",
            "NP freq  -  599\n",
            "\n",
            "lmao\n",
            "Weighted value  -  -6057\n",
            "IP freq  -  26106\n",
            "NP freq  -  31178\n",
            "\n",
            "goodnight\n",
            "Weighted value  -  -5717\n",
            "IP freq  -  631\n",
            "NP freq  -  2241\n",
            "\n",
            "sandyincanada\n",
            "Weighted value  -  -5571\n",
            "IP freq  -  91\n",
            "NP freq  -  759\n",
            "\n",
            "yall\n",
            "Weighted value  -  -5503\n",
            "IP freq  -  33864\n",
            "NP freq  -  38682\n",
            "\n",
            "lynda3035\n",
            "Weighted value  -  -5472\n",
            "IP freq  -  76\n",
            "NP freq  -  684\n",
            "\n",
            "win\n",
            "Weighted value  -  -5403\n",
            "IP freq  -  16509\n",
            "NP freq  -  20052\n",
            "\n",
            "springtraining\n",
            "Weighted value  -  -5340\n",
            "IP freq  -  15\n",
            "NP freq  -  549\n",
            "\n",
            "letsgoducks\n",
            "Weighted value  -  -5330\n",
            "IP freq  -  35\n",
            "NP freq  -  568\n",
            "\n",
            "march\n",
            "Weighted value  -  -5088\n",
            "IP freq  -  1407\n",
            "NP freq  -  3543\n",
            "\n",
            "like\n",
            "Weighted value  -  -4990\n",
            "IP freq  -  176070\n",
            "NP freq  -  180927\n",
            "\n",
            "🎄\n",
            "Weighted value  -  -4957\n",
            "IP freq  -  58\n",
            "NP freq  -  566\n",
            "\n",
            "bloomnight2\n",
            "Weighted value  -  -4940\n",
            "IP freq  -  78\n",
            "NP freq  -  661\n",
            "\n",
            "sun\n",
            "Weighted value  -  -4904\n",
            "IP freq  -  6242\n",
            "NP freq  -  6054\n",
            "\n",
            "watching\n",
            "Weighted value  -  -4893\n",
            "IP freq  -  13979\n",
            "NP freq  -  17818\n",
            "\n",
            "tosca3333\n",
            "Weighted value  -  -4870\n",
            "IP freq  -  51\n",
            "NP freq  -  538\n",
            "\n",
            "got\n",
            "Weighted value  -  -4758\n",
            "IP freq  -  71513\n",
            "NP freq  -  75991\n",
            "\n",
            "really\n",
            "Weighted value  -  -4705\n",
            "IP freq  -  57827\n",
            "NP freq  -  62202\n",
            "\n",
            "wow\n",
            "Weighted value  -  -4697\n",
            "IP freq  -  15592\n",
            "NP freq  -  19373\n",
            "\n",
            "arizona\n",
            "Weighted value  -  -4690\n",
            "IP freq  -  57005\n",
            "NP freq  -  61362\n",
            "\n",
            "friend\n",
            "Weighted value  -  -4653\n",
            "IP freq  -  17505\n",
            "NP freq  -  18876\n",
            "\n",
            "wps\n",
            "Weighted value  -  -4600\n",
            "IP freq  -  14\n",
            "NP freq  -  474\n",
            "\n",
            "bowl\n",
            "Weighted value  -  -4577\n",
            "IP freq  -  2172\n",
            "NP freq  -  4421\n",
            "\n",
            "😂😂😂😂\n",
            "Weighted value  -  -4519\n",
            "IP freq  -  2973\n",
            "NP freq  -  5442\n",
            "\n",
            "hackmanpatsy\n",
            "Weighted value  -  -4510\n",
            "IP freq  -  52\n",
            "NP freq  -  511\n",
            "\n",
            "lol\n",
            "Weighted value  -  -4460\n",
            "IP freq  -  62970\n",
            "NP freq  -  67153\n",
            "\n",
            "sundevilhoops\n",
            "Weighted value  -  -4434\n",
            "IP freq  -  66\n",
            "NP freq  -  575\n",
            "\n",
            "lpowell588lady\n",
            "Weighted value  -  -4430\n",
            "IP freq  -  47\n",
            "NP freq  -  490\n",
            "\n",
            "fuck\n",
            "Weighted value  -  -4413\n",
            "IP freq  -  35944\n",
            "NP freq  -  39918\n",
            "\n",
            "xmas\n",
            "Weighted value  -  -4401\n",
            "IP freq  -  92\n",
            "NP freq  -  684\n",
            "\n",
            "trumpresign\n",
            "Weighted value  -  -4400\n",
            "IP freq  -  27\n",
            "NP freq  -  467\n",
            "\n",
            "night\n",
            "Weighted value  -  -4398\n",
            "IP freq  -  34283\n",
            "NP freq  -  38228\n",
            "\n",
            "distancing\n",
            "Weighted value  -  -4340\n",
            "IP freq  -  24\n",
            "NP freq  -  458\n",
            "\n",
            "man\n",
            "Weighted value  -  -4326\n",
            "IP freq  -  41449\n",
            "NP freq  -  44955\n",
            "\n",
            "debatenight\n",
            "Weighted value  -  -4320\n",
            "IP freq  -  7\n",
            "NP freq  -  439\n",
            "\n",
            "😂😂\n",
            "Weighted value  -  -4283\n",
            "IP freq  -  10666\n",
            "NP freq  -  13943\n",
            "\n",
            "shit\n",
            "Weighted value  -  -4261\n",
            "IP freq  -  48349\n",
            "NP freq  -  52289\n",
            "\n",
            "👀\n",
            "Weighted value  -  -4251\n",
            "IP freq  -  5729\n",
            "NP freq  -  8571\n",
            "\n",
            "feb\n",
            "Weighted value  -  -4237\n",
            "IP freq  -  169\n",
            "NP freq  -  935\n",
            "\n",
            "fucking\n",
            "Weighted value  -  -4179\n",
            "IP freq  -  26062\n",
            "NP freq  -  29726\n",
            "\n",
            "shutdown\n",
            "Weighted value  -  -4156\n",
            "IP freq  -  149\n",
            "NP freq  -  865\n",
            "\n",
            "time\n",
            "Weighted value  -  -4078\n",
            "IP freq  -  93436\n",
            "NP freq  -  96386\n",
            "\n",
            "wmphoenixopen\n",
            "Weighted value  -  -4050\n",
            "IP freq  -  20\n",
            "NP freq  -  425\n",
            "\n",
            "grammys\n",
            "Weighted value  -  -4042\n",
            "IP freq  -  54\n",
            "NP freq  -  495\n",
            "\n",
            "dinner\n",
            "Weighted value  -  -3982\n",
            "IP freq  -  3364\n",
            "NP freq  -  5710\n",
            "\n",
            "2018\n",
            "Weighted value  -  -3957\n",
            "IP freq  -  5001\n",
            "NP freq  -  7604\n",
            "\n",
            "january\n",
            "Weighted value  -  -3934\n",
            "IP freq  -  678\n",
            "NP freq  -  2007\n",
            "\n",
            "one\n",
            "Weighted value  -  -3930\n",
            "IP freq  -  107992\n",
            "NP freq  -  111789\n",
            "\n",
            "february\n",
            "Weighted value  -  -3883\n",
            "IP freq  -  360\n",
            "NP freq  -  1376\n",
            "\n",
            "yotes\n",
            "Weighted value  -  -3880\n",
            "IP freq  -  291\n",
            "NP freq  -  1218\n",
            "\n",
            "girl\n",
            "Weighted value  -  -3867\n",
            "IP freq  -  28157\n",
            "NP freq  -  30261\n",
            "\n",
            "ive\n",
            "Weighted value  -  -3735\n",
            "IP freq  -  37617\n",
            "NP freq  -  41041\n",
            "\n",
            "snow\n",
            "Weighted value  -  -3718\n",
            "IP freq  -  998\n",
            "NP freq  -  2489\n",
            "\n",
            "🥺\n",
            "Weighted value  -  -3671\n",
            "IP freq  -  1074\n",
            "NP freq  -  2594\n",
            "\n",
            "spring\n",
            "Weighted value  -  -3520\n",
            "IP freq  -  2373\n",
            "NP freq  -  4311\n",
            "\n",
            "someone\n",
            "Weighted value  -  -3469\n",
            "IP freq  -  37556\n",
            "NP freq  -  40753\n",
            "\n",
            "ever\n",
            "Weighted value  -  -3449\n",
            "IP freq  -  40353\n",
            "NP freq  -  43549\n",
            "\n",
            "trump\n",
            "Weighted value  -  -3413\n",
            "IP freq  -  50859\n",
            "NP freq  -  53672\n",
            "\n",
            "omg\n",
            "Weighted value  -  -3318\n",
            "IP freq  -  12039\n",
            "NP freq  -  14748\n",
            "\n",
            "persona\n",
            "Weighted value  -  -3238\n",
            "IP freq  -  165\n",
            "NP freq  -  358\n",
            "\n",
            "movie\n",
            "Weighted value  -  -3235\n",
            "IP freq  -  8423\n",
            "NP freq  -  10489\n",
            "\n",
            "december\n",
            "Weighted value  -  -3190\n",
            "IP freq  -  752\n",
            "NP freq  -  1970\n",
            "\n",
            "cant\n",
            "Weighted value  -  -3149\n",
            "IP freq  -  67931\n",
            "NP freq  -  70947\n",
            "\n",
            "dont\n",
            "Weighted value  -  -3141\n",
            "IP freq  -  133317\n",
            "NP freq  -  136388\n",
            "\n",
            "bitch\n",
            "Weighted value  -  -3120\n",
            "IP freq  -  18210\n",
            "NP freq  -  20388\n",
            "\n",
            "2019\n",
            "Weighted value  -  -3119\n",
            "IP freq  -  3928\n",
            "NP freq  -  5978\n",
            "\n",
            "never\n",
            "Weighted value  -  -3099\n",
            "IP freq  -  50682\n",
            "NP freq  -  53612\n",
            "\n",
            "sunset\n",
            "Weighted value  -  -3084\n",
            "IP freq  -  2428\n",
            "NP freq  -  3947\n",
            "\n",
            "know\n",
            "Weighted value  -  -3068\n",
            "IP freq  -  86392\n",
            "NP freq  -  89073\n",
            "\n",
            "2kewlabs\n",
            "Weighted value  -  -3000\n",
            "IP freq  -  40\n",
            "NP freq  -  367\n",
            "\n",
            "trumpshutdown\n",
            "Weighted value  -  -2995\n",
            "IP freq  -  0\n",
            "NP freq  -  599\n",
            "\n",
            "vote\n",
            "Weighted value  -  -2992\n",
            "IP freq  -  13410\n",
            "NP freq  -  15284\n",
            "\n",
            "😂😂😂😂😂\n",
            "Weighted value  -  -2956\n",
            "IP freq  -  1130\n",
            "NP freq  -  2478\n",
            "\n",
            "santa\n",
            "Weighted value  -  -2945\n",
            "IP freq  -  655\n",
            "NP freq  -  1636\n",
            "\n",
            "rosewoo15096108\n",
            "Weighted value  -  -2920\n",
            "IP freq  -  8\n",
            "NP freq  -  300\n",
            "\n",
            "2017\n",
            "Weighted value  -  -2904\n",
            "IP freq  -  4774\n",
            "NP freq  -  6810\n",
            "\n"
          ]
        }
      ],
      "source": [
        "for i in range(100):\n",
        "    element = list(pruned_experimental_weighted_bow.keys())[i]\n",
        "    if element not in IP_bow_prepruned:\n",
        "        IP_bow_prepruned[element] = 0\n",
        "    if element not in NP_bow_prepruned:\n",
        "        NP_bow_prepruned[element] = 0\n",
        "    print(element)\n",
        "    print('Weighted value  - ', pruned_experimental_weighted_bow[element])\n",
        "    print('IP freq  - ', IP_bow_prepruned[element])\n",
        "    print('NP freq  - ', int(NP_bow_prepruned[element] / np_to_ip_ratio))\n",
        "    print()"
      ]
    },
    {
      "cell_type": "code",
      "execution_count": null,
      "metadata": {
        "colab": {
          "background_save": true
        },
        "id": "v7gqPB5OlE82",
        "outputId": "bc4df56c-89e6-4761-9ed1-d24f23e46ae7"
      },
      "outputs": [
        {
          "data": {
            "image/png": "[encoded data removed]",
            "text/plain": [
              "<Figure size 432x288 with 1 Axes>"
            ]
          },
          "metadata": {},
          "output_type": "display_data"
        }
      ],
      "source": [
        "plt.scatter(range(len(pruned_experimental_weighted_bow)), pruned_experimental_weighted_bow.values())\n",
        "plt.show()"
      ]
    },
    {
      "cell_type": "code",
      "execution_count": null,
      "metadata": {
        "colab": {
          "background_save": true
        },
        "id": "yxGZC9tplE83"
      },
      "outputs": [],
      "source": []
    },
    {
      "cell_type": "code",
      "execution_count": null,
      "metadata": {
        "colab": {
          "background_save": true
        },
        "id": "VEQ_RE3SlE83"
      },
      "outputs": [],
      "source": []
    },
    {
      "cell_type": "code",
      "execution_count": null,
      "metadata": {
        "colab": {
          "background_save": true
        },
        "id": "pIjaYBJ5lE83"
      },
      "outputs": [],
      "source": []
    }
  ],
  "metadata": {
    "colab": {
      "provenance": [],
      "collapsed_sections": [
        "_ipjqNpleT3b",
        "A-wLgJ65e6kp"
      ]
    },
    "gpuClass": "standard",
    "kernelspec": {
      "display_name": "Python 3",
      "name": "python3"
    },
    "language_info": {
      "name": "python"
    }
  },
  "nbformat": 4,
  "nbformat_minor": 0
}