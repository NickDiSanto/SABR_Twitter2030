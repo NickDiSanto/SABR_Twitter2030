{
 "cells": [
  {
   "cell_type": "code",
   "execution_count": 35,
   "id": "3f20e85a-b911-4901-b6d2-b4c6780916e1",
   "metadata": {},
   "outputs": [
    {
     "name": "stdout",
     "output_type": "stream",
     "text": [
      "['NYM19', 'SDP17', 'OAK18', 'MIN17', 'BAL17', 'CLE17', 'TOR16', 'DET19', 'KCR19', 'ANA19', 'LAD17', 'MIN18', 'TOR18', 'COL16', 'HOU17', 'FLA16', 'SEA18', 'AZ16', 'TEX19', 'SDP16', 'MIN16', 'PHI19', 'OAK19', 'BOS19', 'BAL16', 'BOS18', 'SEA19', 'PIT17', 'PIT16', 'MIL18', 'AZ17', 'KCR17', 'WSN18', 'TEX16', 'COL19', 'CHC16', 'STL18', 'CIN17', 'OAK17', 'SEA17', 'LAD18', 'SFG17', 'PIT19', 'PHI18', 'ANA16', 'BAL18', 'ATL16', 'SDP19', 'HOU18', 'SFG16', 'CIN16', 'MIL19', 'PHI16', 'DET18', 'CLE19', 'WSN19', 'STL16', 'TOR19', 'NYY19', 'ANA17', 'BOS16', 'FLA18', 'NYY16', 'BAL19', 'NYY17', 'NYM16', 'CHW19', 'ANA18', 'KCR16', 'CLE16', 'LAD16', 'MIL17', 'SFG18', 'HOU19', 'DET16', 'BOS17', 'NYM18', 'COL18', 'FLA19', 'WSN16', 'CHW16', 'TEX18', 'FLA17', 'HOU16', 'ATL19', 'CHC18', 'CIN19', 'TBD16', 'WSN17', 'AZ19', 'STL17', 'CHW18', 'NYM17', 'ATL18', 'NYY18', 'TBD18', 'PHI17', 'COL17', 'CLE18', 'MIL16', 'ATL17', 'CHW17', 'SEA16', 'TBD17', 'DET17', 'LAD19', 'TOR17', 'SFG19', 'KCR18', 'CIN18', 'TBD19', 'TEX17', 'CHC19', 'CHC17', 'AZ18', 'PIT18', 'OAK16', 'MIN19', 'STL19', 'SDP18']\n"
     ]
    }
   ],
   "source": [
    "# https://stackoverflow.com/questions/3207219/how-do-i-list-all-files-of-a-directoryfrom os import listdir\n",
    "\n",
    "from os.path import isfile, join\n",
    "files = [f for f in listdir('Team_WL') if isfile(join('Team_WL', f))]\n",
    "\n",
    "files_clean = []\n",
    "\n",
    "for i in files:\n",
    "    x = i.replace(\".csv\", \"\")\n",
    "    files_clean.append(x)\n",
    "\n",
    "print(files_clean)"
   ]
  },
  {
   "cell_type": "code",
   "execution_count": 45,
   "id": "2b5a6fbe-e13c-466d-964d-ae5c9070a487",
   "metadata": {},
   "outputs": [
    {
     "data": {
      "text/html": [
       "<div>\n",
       "<style scoped>\n",
       "    .dataframe tbody tr th:only-of-type {\n",
       "        vertical-align: middle;\n",
       "    }\n",
       "\n",
       "    .dataframe tbody tr th {\n",
       "        vertical-align: top;\n",
       "    }\n",
       "\n",
       "    .dataframe thead th {\n",
       "        text-align: right;\n",
       "    }\n",
       "</style>\n",
       "<table border=\"1\" class=\"dataframe\">\n",
       "  <thead>\n",
       "    <tr style=\"text-align: right;\">\n",
       "      <th></th>\n",
       "      <th>Team</th>\n",
       "      <th>Year</th>\n",
       "      <th>Games_Counts</th>\n",
       "    </tr>\n",
       "  </thead>\n",
       "  <tbody>\n",
       "    <tr>\n",
       "      <th>44</th>\n",
       "      <td>ANA</td>\n",
       "      <td>16</td>\n",
       "      <td>81</td>\n",
       "    </tr>\n",
       "    <tr>\n",
       "      <th>59</th>\n",
       "      <td>ANA</td>\n",
       "      <td>17</td>\n",
       "      <td>81</td>\n",
       "    </tr>\n",
       "    <tr>\n",
       "      <th>67</th>\n",
       "      <td>ANA</td>\n",
       "      <td>18</td>\n",
       "      <td>81</td>\n",
       "    </tr>\n",
       "    <tr>\n",
       "      <th>9</th>\n",
       "      <td>ANA</td>\n",
       "      <td>19</td>\n",
       "      <td>79</td>\n",
       "    </tr>\n",
       "    <tr>\n",
       "      <th>46</th>\n",
       "      <td>ATL</td>\n",
       "      <td>16</td>\n",
       "      <td>80</td>\n",
       "    </tr>\n",
       "    <tr>\n",
       "      <th>...</th>\n",
       "      <td>...</td>\n",
       "      <td>...</td>\n",
       "      <td>...</td>\n",
       "    </tr>\n",
       "    <tr>\n",
       "      <th>57</th>\n",
       "      <td>TOR</td>\n",
       "      <td>19</td>\n",
       "      <td>81</td>\n",
       "    </tr>\n",
       "    <tr>\n",
       "      <th>79</th>\n",
       "      <td>WSN</td>\n",
       "      <td>16</td>\n",
       "      <td>84</td>\n",
       "    </tr>\n",
       "    <tr>\n",
       "      <th>88</th>\n",
       "      <td>WSN</td>\n",
       "      <td>17</td>\n",
       "      <td>84</td>\n",
       "    </tr>\n",
       "    <tr>\n",
       "      <th>32</th>\n",
       "      <td>WSN</td>\n",
       "      <td>18</td>\n",
       "      <td>81</td>\n",
       "    </tr>\n",
       "    <tr>\n",
       "      <th>55</th>\n",
       "      <td>WSN</td>\n",
       "      <td>19</td>\n",
       "      <td>89</td>\n",
       "    </tr>\n",
       "  </tbody>\n",
       "</table>\n",
       "<p>120 rows × 3 columns</p>\n",
       "</div>"
      ],
      "text/plain": [
       "   Team Year  Games_Counts\n",
       "44  ANA   16            81\n",
       "59  ANA   17            81\n",
       "67  ANA   18            81\n",
       "9   ANA   19            79\n",
       "46  ATL   16            80\n",
       "..  ...  ...           ...\n",
       "57  TOR   19            81\n",
       "79  WSN   16            84\n",
       "88  WSN   17            84\n",
       "32  WSN   18            81\n",
       "55  WSN   19            89\n",
       "\n",
       "[120 rows x 3 columns]"
      ]
     },
     "execution_count": 45,
     "metadata": {},
     "output_type": "execute_result"
    }
   ],
   "source": [
    "import pandas as pd\n",
    "\n",
    "dict_team = {}\n",
    "\n",
    "for i in files_clean:\n",
    "    df = pd.read_csv(f'Team_WL/{i}.csv')\n",
    "    dict_team[i] = len(df.dropna())\n",
    "\n",
    "df_team = pd.DataFrame.from_dict(dict_team, orient='index', columns=['Games_Counts'])\n",
    "\n",
    "df_team = df_team.reset_index()\n",
    "df_team = df_team.rename(columns={'index': 'Team'})\n",
    "\n",
    "df_team['Year']=df_team['Team'].str.slice(start=-2)\n",
    "df_team['Team']=df_team['Team'].str.slice(stop=-2)\n",
    "df_team = df_team[['Team', 'Year', 'Games_Counts']]\n",
    "\n",
    "df_team = df_team.sort_values(['Team', 'Year'])\n",
    "\n",
    "df_team"
   ]
  },
  {
   "cell_type": "code",
   "execution_count": 37,
   "id": "4c082027-d660-4f61-bb9a-c5177e8013da",
   "metadata": {},
   "outputs": [],
   "source": [
    "df_team.to_csv('Games_Counts.csv', index=False)"
   ]
  },
  {
   "cell_type": "code",
   "execution_count": 43,
   "id": "7b6e3ea2-bad0-4cf2-8115-22434c5a53b6",
   "metadata": {},
   "outputs": [
    {
     "data": {
      "text/plain": [
       "Team\n",
       "ANA    322\n",
       "ATL    328\n",
       "AZ     326\n",
       "BAL    324\n",
       "BOS    331\n",
       "CHC    339\n",
       "CHW    323\n",
       "CIN    322\n",
       "CLE    336\n",
       "COL    325\n",
       "DET    323\n",
       "FLA    323\n",
       "HOU    345\n",
       "KCR    323\n",
       "LAD    349\n",
       "MIL    330\n",
       "MIN    323\n",
       "NYM    325\n",
       "NYY    338\n",
       "OAK    323\n",
       "PHI    323\n",
       "PIT    322\n",
       "SDP    324\n",
       "SEA    324\n",
       "SFG    326\n",
       "STL    328\n",
       "TBD    326\n",
       "TEX    326\n",
       "TOR    329\n",
       "WSN    338\n",
       "Name: Games_Counts, dtype: int64"
      ]
     },
     "execution_count": 43,
     "metadata": {},
     "output_type": "execute_result"
    }
   ],
   "source": [
    "df_team.groupby(['Team'])[\"Games_Counts\"].sum()"
   ]
  },
  {
   "cell_type": "code",
   "execution_count": null,
   "id": "01899d04-3939-44b0-9775-a0f5c66dd0fd",
   "metadata": {},
   "outputs": [],
   "source": []
  }
 ],
 "metadata": {
  "kernelspec": {
   "display_name": "Python (w/Anaconda2)",
   "language": "python",
   "name": "v2anaconda"
  },
  "language_info": {
   "codemirror_mode": {
    "name": "ipython",
    "version": 3
   },
   "file_extension": ".py",
   "mimetype": "text/x-python",
   "name": "python",
   "nbconvert_exporter": "python",
   "pygments_lexer": "ipython3",
   "version": "3.8.13"
  }
 },
 "nbformat": 4,
 "nbformat_minor": 5
}
