{
 "cells": [
  {
   "cell_type": "code",
   "execution_count": 1,
   "id": "9de63046-d3a8-487f-977c-690318a5f016",
   "metadata": {},
   "outputs": [],
   "source": [
    "import pandas as pd\n",
    "import numpy as np\n",
    "from sklearn.model_selection import train_test_split\n",
    "from sklearn.linear_model import LogisticRegression\n",
    "from sklearn import preprocessing\n",
    "from sklearn.metrics import accuracy_score, classification_report, confusion_matrix\n",
    "from matplotlib import pyplot as plt\n",
    "import seaborn as sns"
   ]
  },
  {
   "cell_type": "code",
   "execution_count": 2,
   "id": "0ccf88ba-9b64-416a-83bb-c7e3c37db96e",
   "metadata": {},
   "outputs": [],
   "source": [
    "abalone = pd.read_csv('Data/mlb_results.csv')"
   ]
  },
  {
   "cell_type": "code",
   "execution_count": 3,
   "id": "73b8e3bc-68c5-4a43-9cb2-a467b8ce600c",
   "metadata": {},
   "outputs": [
    {
     "data": {
      "text/html": [
       "<div>\n",
       "<style scoped>\n",
       "    .dataframe tbody tr th:only-of-type {\n",
       "        vertical-align: middle;\n",
       "    }\n",
       "\n",
       "    .dataframe tbody tr th {\n",
       "        vertical-align: top;\n",
       "    }\n",
       "\n",
       "    .dataframe thead th {\n",
       "        text-align: right;\n",
       "    }\n",
       "</style>\n",
       "<table border=\"1\" class=\"dataframe\">\n",
       "  <thead>\n",
       "    <tr style=\"text-align: right;\">\n",
       "      <th></th>\n",
       "      <th>Team</th>\n",
       "      <th>Date</th>\n",
       "      <th>WinLoss</th>\n",
       "      <th>HapSen</th>\n",
       "      <th>SadSen</th>\n",
       "      <th>GenSen</th>\n",
       "      <th>PosPol</th>\n",
       "      <th>NeuPol</th>\n",
       "      <th>NegPol</th>\n",
       "      <th>ComPol</th>\n",
       "      <th>YesCog</th>\n",
       "      <th>NoCog</th>\n",
       "    </tr>\n",
       "  </thead>\n",
       "  <tbody>\n",
       "    <tr>\n",
       "      <th>0</th>\n",
       "      <td>CHC</td>\n",
       "      <td>2016-04-11</td>\n",
       "      <td>1</td>\n",
       "      <td>10450</td>\n",
       "      <td>3697</td>\n",
       "      <td>14147</td>\n",
       "      <td>37795</td>\n",
       "      <td>1009</td>\n",
       "      <td>48980</td>\n",
       "      <td>27055</td>\n",
       "      <td>72</td>\n",
       "      <td>69131</td>\n",
       "    </tr>\n",
       "    <tr>\n",
       "      <th>1</th>\n",
       "      <td>CHC</td>\n",
       "      <td>2016-04-13</td>\n",
       "      <td>1</td>\n",
       "      <td>9700</td>\n",
       "      <td>3205</td>\n",
       "      <td>12905</td>\n",
       "      <td>36267</td>\n",
       "      <td>975</td>\n",
       "      <td>47186</td>\n",
       "      <td>26090</td>\n",
       "      <td>75</td>\n",
       "      <td>66327</td>\n",
       "    </tr>\n",
       "    <tr>\n",
       "      <th>2</th>\n",
       "      <td>CHC</td>\n",
       "      <td>2016-04-14</td>\n",
       "      <td>1</td>\n",
       "      <td>9748</td>\n",
       "      <td>3617</td>\n",
       "      <td>13365</td>\n",
       "      <td>41003</td>\n",
       "      <td>932</td>\n",
       "      <td>52609</td>\n",
       "      <td>29796</td>\n",
       "      <td>97</td>\n",
       "      <td>73681</td>\n",
       "    </tr>\n",
       "    <tr>\n",
       "      <th>3</th>\n",
       "      <td>CHC</td>\n",
       "      <td>2016-04-15</td>\n",
       "      <td>0</td>\n",
       "      <td>9169</td>\n",
       "      <td>3142</td>\n",
       "      <td>12311</td>\n",
       "      <td>36518</td>\n",
       "      <td>1017</td>\n",
       "      <td>48456</td>\n",
       "      <td>26654</td>\n",
       "      <td>70</td>\n",
       "      <td>66714</td>\n",
       "    </tr>\n",
       "    <tr>\n",
       "      <th>4</th>\n",
       "      <td>CHC</td>\n",
       "      <td>2016-04-16</td>\n",
       "      <td>1</td>\n",
       "      <td>9048</td>\n",
       "      <td>2693</td>\n",
       "      <td>11741</td>\n",
       "      <td>35439</td>\n",
       "      <td>1002</td>\n",
       "      <td>47263</td>\n",
       "      <td>26392</td>\n",
       "      <td>86</td>\n",
       "      <td>63830</td>\n",
       "    </tr>\n",
       "  </tbody>\n",
       "</table>\n",
       "</div>"
      ],
      "text/plain": [
       "  Team        Date  WinLoss  HapSen  SadSen  GenSen  PosPol  NeuPol  NegPol  \\\n",
       "0  CHC  2016-04-11        1   10450    3697   14147   37795    1009   48980   \n",
       "1  CHC  2016-04-13        1    9700    3205   12905   36267     975   47186   \n",
       "2  CHC  2016-04-14        1    9748    3617   13365   41003     932   52609   \n",
       "3  CHC  2016-04-15        0    9169    3142   12311   36518    1017   48456   \n",
       "4  CHC  2016-04-16        1    9048    2693   11741   35439    1002   47263   \n",
       "\n",
       "   ComPol  YesCog  NoCog  \n",
       "0   27055      72  69131  \n",
       "1   26090      75  66327  \n",
       "2   29796      97  73681  \n",
       "3   26654      70  66714  \n",
       "4   26392      86  63830  "
      ]
     },
     "execution_count": 3,
     "metadata": {},
     "output_type": "execute_result"
    }
   ],
   "source": [
    "abalone.head()"
   ]
  },
  {
   "cell_type": "code",
   "execution_count": 4,
   "id": "2370bc98-3070-4683-bfc1-4352f5e36465",
   "metadata": {},
   "outputs": [],
   "source": [
    "abalone.columns = ['Team', 'Date', 'WinLoss', 'HapSen', 'SadSen', 'GenSen', 'PosPol', 'NeuPol', 'NegPol', 'ComPol', 'YesCog', 'NoCog']"
   ]
  },
  {
   "cell_type": "code",
   "execution_count": 5,
   "id": "8b83882b-73bd-4497-b845-8e105a2b7be5",
   "metadata": {},
   "outputs": [],
   "source": [
    "abalone = abalone.drop(\"Team\", axis=1)\n",
    "abalone = abalone.drop(\"Date\", axis=1)"
   ]
  },
  {
   "cell_type": "code",
   "execution_count": 6,
   "id": "6a583dd0-4145-4b5d-bb17-d667463c6be6",
   "metadata": {},
   "outputs": [
    {
     "data": {
      "text/plain": [
       "WinLoss    1.000000\n",
       "HapSen     0.083350\n",
       "SadSen     0.078135\n",
       "GenSen     0.082519\n",
       "PosPol     0.072996\n",
       "NeuPol     0.051363\n",
       "NegPol     0.072139\n",
       "ComPol     0.070545\n",
       "YesCog     0.029789\n",
       "NoCog      0.076080\n",
       "Name: WinLoss, dtype: float64"
      ]
     },
     "execution_count": 6,
     "metadata": {},
     "output_type": "execute_result"
    }
   ],
   "source": [
    "correlation_matrix = abalone.corr()\n",
    "correlation_matrix[\"WinLoss\"]"
   ]
  },
  {
   "cell_type": "code",
   "execution_count": null,
   "id": "36ce3451-99ba-4c99-9afb-ec7a127dc3f9",
   "metadata": {},
   "outputs": [],
   "source": []
  }
 ],
 "metadata": {
  "kernelspec": {
   "display_name": "myenv3",
   "language": "python",
   "name": "myenv3"
  },
  "language_info": {
   "codemirror_mode": {
    "name": "ipython",
    "version": 3
   },
   "file_extension": ".py",
   "mimetype": "text/x-python",
   "name": "python",
   "nbconvert_exporter": "python",
   "pygments_lexer": "ipython3",
   "version": "3.8.13"
  }
 },
 "nbformat": 4,
 "nbformat_minor": 5
}
